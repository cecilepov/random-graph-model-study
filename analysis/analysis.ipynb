{
 "cells": [
  {
   "cell_type": "code",
   "execution_count": 2,
   "metadata": {},
   "outputs": [
    {
     "name": "stdout",
     "output_type": "stream",
     "text": [
      "The autoreload extension is already loaded. To reload it, use:\n",
      "  %reload_ext autoreload\n"
     ]
    }
   ],
   "source": [
    "# allows the code to be reload automatically, without restarting the whole kernel\n",
    "\n",
    "%load_ext autoreload\n",
    "%autoreload 1\n",
    "%aimport Graph\n",
    "%aimport BipartiteGraph\n",
    "%aimport UnipartiteGraph\n",
    "%aimport TripartiteGraph\n",
    "\n",
    "from Graph import Graph # import our file \n",
    "from BipartiteGraph import BipartiteGraph # import our file \n",
    "from UnipartiteGraph import UnipartiteGraph # import our file \n",
    "from TripartiteGraph import TripartiteGraph # import our file \n",
    "\n",
    "import pandas as pd\n",
    "import numpy as np\n",
    "import networkx as nx\n",
    "import matplotlib.pyplot as plt\n",
    "import random \n",
    "from guppy import hpy\n",
    "import sys\n",
    "\n",
    "from collections import defaultdict\n",
    "from random import shuffle\n",
    "from itertools import chain\n",
    "import time\n",
    "import random\n",
    "from collections import Counter\n",
    "from itertools import chain\n",
    "import itertools"
   ]
  },
  {
   "cell_type": "code",
   "execution_count": 4,
   "metadata": {},
   "outputs": [],
   "source": [
    "import queue\n",
    "q1 = queue.Queue()"
   ]
  },
  {
   "cell_type": "code",
   "execution_count": 3,
   "metadata": {},
   "outputs": [
    {
     "data": {
      "text/plain": [
       "{(2, 4), 1, 2, 3, 5, 6}"
      ]
     },
     "execution_count": 3,
     "metadata": {},
     "output_type": "execute_result"
    }
   ],
   "source": [
    "yj = {1,2,3,5,6}\n",
    "sx = {1,2,5}\n",
    "a  ={6}\n",
    "yj -sx\n",
    "yj.add((2,4))\n",
    "yj"
   ]
  },
  {
   "cell_type": "code",
   "execution_count": 4,
   "metadata": {},
   "outputs": [
    {
     "ename": "TypeError",
     "evalue": "'set' object is not subscriptable",
     "output_type": "error",
     "traceback": [
      "\u001b[0;31m---------------------------------------------------------------------------\u001b[0m",
      "\u001b[0;31mTypeError\u001b[0m                                 Traceback (most recent call last)",
      "\u001b[0;32m<ipython-input-4-e52a4fec7f32>\u001b[0m in \u001b[0;36m<module>\u001b[0;34m\u001b[0m\n\u001b[0;32m----> 1\u001b[0;31m \u001b[0myj\u001b[0m\u001b[0;34m[\u001b[0m\u001b[0;36m1\u001b[0m\u001b[0;34m]\u001b[0m\u001b[0;34m\u001b[0m\u001b[0;34m\u001b[0m\u001b[0m\n\u001b[0m",
      "\u001b[0;31mTypeError\u001b[0m: 'set' object is not subscriptable"
     ]
    }
   ],
   "source": [
    "yj[1]"
   ]
  },
  {
   "cell_type": "code",
   "execution_count": 23,
   "metadata": {},
   "outputs": [
    {
     "data": {
      "text/plain": [
       "{(2, 4), 1, 2, 3, 5, 6}"
      ]
     },
     "execution_count": 23,
     "metadata": {},
     "output_type": "execute_result"
    }
   ],
   "source": [
    "yj.intersection()"
   ]
  },
  {
   "cell_type": "code",
   "execution_count": null,
   "metadata": {},
   "outputs": [],
   "source": []
  },
  {
   "cell_type": "code",
   "execution_count": 40,
   "metadata": {},
   "outputs": [],
   "source": [
    "bg =BipartiteGraph.from_file(\"data/examples/bpse_path.BIP.ORIGIN\",separator=\" \")"
   ]
  },
  {
   "cell_type": "code",
   "execution_count": 11,
   "metadata": {},
   "outputs": [
    {
     "data": {
      "text/plain": [
       "<BipartiteGraph.BipartiteGraph at 0x7fe7f68ea828>"
      ]
     },
     "execution_count": 11,
     "metadata": {},
     "output_type": "execute_result"
    }
   ],
   "source": [
    "G"
   ]
  },
  {
   "cell_type": "code",
   "execution_count": 13,
   "metadata": {},
   "outputs": [
    {
     "name": "stdout",
     "output_type": "stream",
     "text": [
      "--- 0.1490790843963623 seconds ---\n"
     ]
    },
    {
     "data": {
      "text/html": [
       "<div>\n",
       "<style scoped>\n",
       "    .dataframe tbody tr th:only-of-type {\n",
       "        vertical-align: middle;\n",
       "    }\n",
       "\n",
       "    .dataframe tbody tr th {\n",
       "        vertical-align: top;\n",
       "    }\n",
       "\n",
       "    .dataframe thead th {\n",
       "        text-align: right;\n",
       "    }\n",
       "</style>\n",
       "<table border=\"1\" class=\"dataframe\">\n",
       "  <thead>\n",
       "    <tr style=\"text-align: right;\">\n",
       "      <th></th>\n",
       "      <th>value</th>\n",
       "    </tr>\n",
       "  </thead>\n",
       "  <tbody>\n",
       "    <tr>\n",
       "      <th>nb_vertices</th>\n",
       "      <td>292</td>\n",
       "    </tr>\n",
       "    <tr>\n",
       "      <th>nb_edges</th>\n",
       "      <td>3071</td>\n",
       "    </tr>\n",
       "    <tr>\n",
       "      <th>density</th>\n",
       "      <td>0.00726823</td>\n",
       "    </tr>\n",
       "    <tr>\n",
       "      <th>nb_connected_components</th>\n",
       "      <td>524</td>\n",
       "    </tr>\n",
       "    <tr>\n",
       "      <th>degree_avg</th>\n",
       "      <td>10.5171</td>\n",
       "    </tr>\n",
       "    <tr>\n",
       "      <th>degree_sum</th>\n",
       "      <td>3071</td>\n",
       "    </tr>\n",
       "    <tr>\n",
       "      <th>degree_min</th>\n",
       "      <td>1</td>\n",
       "    </tr>\n",
       "    <tr>\n",
       "      <th>degree_max</th>\n",
       "      <td>87</td>\n",
       "    </tr>\n",
       "  </tbody>\n",
       "</table>\n",
       "</div>"
      ],
      "text/plain": [
       "                              value\n",
       "nb_vertices                     292\n",
       "nb_edges                       3071\n",
       "density                  0.00726823\n",
       "nb_connected_components         524\n",
       "degree_avg                  10.5171\n",
       "degree_sum                     3071\n",
       "degree_min                        1\n",
       "degree_max                       87"
      ]
     },
     "execution_count": 13,
     "metadata": {},
     "output_type": "execute_result"
    },
    {
     "data": {
      "image/png": "[encoded data removed]",
      "text/plain": [
       "<Figure size 432x288 with 1 Axes>"
      ]
     },
     "metadata": {
      "needs_background": "light"
     },
     "output_type": "display_data"
    }
   ],
   "source": [
    "G.analyze(G.bottom)"
   ]
  },
  {
   "cell_type": "code",
   "execution_count": 18,
   "metadata": {},
   "outputs": [
    {
     "data": {
      "text/plain": [
       "Counter({3: 198, 5: 60, 4: 122, 2: 299, 1: 717, 6: 31, 7: 8, 8: 8, 17: 4})"
      ]
     },
     "execution_count": 18,
     "metadata": {},
     "output_type": "execute_result"
    },
    {
     "data": {
      "image/png": "[encoded data removed]",
      "text/plain": [
       "<Figure size 432x288 with 1 Axes>"
      ]
     },
     "metadata": {
      "needs_background": "light"
     },
     "output_type": "display_data"
    }
   ],
   "source": [
    "G.get_degree_distribution(G.top)"
   ]
  },
  {
   "cell_type": "code",
   "execution_count": 24,
   "metadata": {},
   "outputs": [],
   "source": [
    "cm = BipartiteGraph.configuration_model(G.get_all_degrees(G.top),G.get_all_degrees(G.bottom))"
   ]
  },
  {
   "cell_type": "code",
   "execution_count": 25,
   "metadata": {
    "scrolled": true
   },
   "outputs": [
    {
     "name": "stdout",
     "output_type": "stream",
     "text": [
      "--- 0.24245667457580566 seconds ---\n"
     ]
    },
    {
     "data": {
      "text/html": [
       "<div>\n",
       "<style scoped>\n",
       "    .dataframe tbody tr th:only-of-type {\n",
       "        vertical-align: middle;\n",
       "    }\n",
       "\n",
       "    .dataframe tbody tr th {\n",
       "        vertical-align: top;\n",
       "    }\n",
       "\n",
       "    .dataframe thead th {\n",
       "        text-align: right;\n",
       "    }\n",
       "</style>\n",
       "<table border=\"1\" class=\"dataframe\">\n",
       "  <thead>\n",
       "    <tr style=\"text-align: right;\">\n",
       "      <th></th>\n",
       "      <th>value</th>\n",
       "    </tr>\n",
       "  </thead>\n",
       "  <tbody>\n",
       "    <tr>\n",
       "      <th>nb_vertices</th>\n",
       "      <td>292</td>\n",
       "    </tr>\n",
       "    <tr>\n",
       "      <th>nb_edges</th>\n",
       "      <td>3050</td>\n",
       "    </tr>\n",
       "    <tr>\n",
       "      <th>density</th>\n",
       "      <td>0.00721852</td>\n",
       "    </tr>\n",
       "    <tr>\n",
       "      <th>nb_connected_components</th>\n",
       "      <td>205</td>\n",
       "    </tr>\n",
       "    <tr>\n",
       "      <th>degree_avg</th>\n",
       "      <td>10.5171</td>\n",
       "    </tr>\n",
       "    <tr>\n",
       "      <th>degree_sum</th>\n",
       "      <td>3071</td>\n",
       "    </tr>\n",
       "    <tr>\n",
       "      <th>degree_min</th>\n",
       "      <td>1</td>\n",
       "    </tr>\n",
       "    <tr>\n",
       "      <th>degree_max</th>\n",
       "      <td>87</td>\n",
       "    </tr>\n",
       "  </tbody>\n",
       "</table>\n",
       "</div>"
      ],
      "text/plain": [
       "                              value\n",
       "nb_vertices                     292\n",
       "nb_edges                       3050\n",
       "density                  0.00721852\n",
       "nb_connected_components         205\n",
       "degree_avg                  10.5171\n",
       "degree_sum                     3071\n",
       "degree_min                        1\n",
       "degree_max                       87"
      ]
     },
     "execution_count": 25,
     "metadata": {},
     "output_type": "execute_result"
    },
    {
     "data": {
      "image/png": "[encoded data removed]",
      "text/plain": [
       "<Figure size 432x288 with 1 Axes>"
      ]
     },
     "metadata": {
      "needs_background": "light"
     },
     "output_type": "display_data"
    }
   ],
   "source": [
    "cm.analyze(G.bottom)"
   ]
  },
  {
   "cell_type": "markdown",
   "metadata": {},
   "source": [
    " # Test"
   ]
  },
  {
   "cell_type": "code",
   "execution_count": 22,
   "metadata": {},
   "outputs": [
    {
     "name": "stdout",
     "output_type": "stream",
     "text": [
      "{frozenset({'B', 'A', 'C'}), frozenset({'D', 'E'}), frozenset({'D', 'B', 'A', 'C'})}\n"
     ]
    },
    {
     "data": {
      "text/plain": [
       "{(('B', 'A', 'C'), (1, 2)), (('D', 'E'), (2, 3))}"
      ]
     },
     "execution_count": 22,
     "metadata": {},
     "output_type": "execute_result"
    }
   ],
   "source": [
    "top = {\"A\":{1,2},\n",
    "      \"B\":{1,2,3,4,5}, \n",
    "      \"C\":{3,4,5,6}}\n",
    "\n",
    "bottom = {1:{\"A\",\"B\"},2:{\"A\",\"B\"},3:{\"B\",\"C\"},4:{\"B\",\"C\"},5:{\"B\",\"C\"},6:{\"C\"}}\n",
    "\n",
    "top1 = {\"A\":{1,2,3},\n",
    "        \"B\":{1,2,3}, \n",
    "        \"C\":{2,3}}\n",
    "    \n",
    "bottom1 = {1:{\"A\",\"B\"},\n",
    "           2:{\"A\",\"B\",\"C\"},\n",
    "           3:{\"A\",\"B\",\"C\"}}\n",
    "\n",
    "top2 = {\"A\":{1,2,7},\n",
    "        \"B\":{1,2,3,4,5}, \n",
    "        \"C\":{3,4,5,6},\n",
    "        \"D\":{1,2,7}}\n",
    "\n",
    "bottom2 = {1:{\"A\",\"B\",\"D\"},2:{\"A\",\"B\",\"D\"},3:{\"B\",\"C\"},4:{\"B\",\"C\"},5:{\"B\",\"C\"},6:{\"C\"},7:{\"A\",\"D\"}}\n",
    "\n",
    "top3 = {\"A\":{1,2},\n",
    "        \"B\":{1,2},\n",
    "        \"C\":{1,2},\n",
    "        \"D\":{3,2},\n",
    "        \"E\":{3,2}}\n",
    "\n",
    "bottom3 = {1:{\"A\",\"B\",\"C\"},\n",
    "        2:{\"A\",\"B\",\"C\",\"D\"},\n",
    "        3:{\"D\",\"E\"}}\n",
    "\n",
    "\n",
    "top4 = {\"A\":{1,2},\n",
    "        \"B\":{1,2},\n",
    "        \"C\":{3,2},\n",
    "        \"D\":{3,2}}\n",
    "\n",
    "bottom4 = {1:{\"A\",\"B\"},\n",
    "           2:{\"A\",\"B\",\"C\",\"D\"},\n",
    "           3:{\"C\",\"D\"}}\n",
    "\n",
    "\n",
    "top5 = {\"A\":{1,2},\n",
    "        \"B\":{1,2,3,4},\n",
    "        \"C\":{3,4}}\n",
    "\n",
    "bottom5 = {1:{\"A\",\"B\"},\n",
    "           2:{\"A\",\"B\"},\n",
    "           3:{\"B\",\"C\"},\n",
    "           4:{\"B\",\"C\"}}\n",
    "\n",
    "# bg =BipartiteGraph.from_file(\"data/examples/bpse_path.BIP.ORIGIN\",separator=\" \")\n",
    "bg = BipartiteGraph(top3,bottom3)\n",
    "detected_or = bg.find_all_maximal()\n",
    "\n",
    "# detected.remove((frozenset({'A', 'B', 'C', 'D'}), (2,)))\n",
    "# print(\"DETECTED\",detected_or)\n",
    "len(detected_or)\n",
    "detected_or"
   ]
  },
  {
   "cell_type": "code",
   "execution_count": 21,
   "metadata": {},
   "outputs": [
    {
     "name": "stdout",
     "output_type": "stream",
     "text": [
      "[(('D', 'E'), (2, 3))]\n",
      "[(('B', 'A', 'C'), (1, 2))]\n"
     ]
    },
    {
     "data": {
      "text/plain": [
       "2"
      ]
     },
     "execution_count": 21,
     "metadata": {},
     "output_type": "execute_result"
    }
   ],
   "source": [
    "# DETECTE LES CHEVAUCHEMENTS\n",
    "\n",
    "detected = detected_or.copy()\n",
    "final = set()\n",
    "final_edges = set()\n",
    "visited = set()\n",
    "\n",
    "while detected:\n",
    "    currenta= random.sample(detected, 1)\n",
    "    current = currenta[0]\n",
    "    print(currenta)\n",
    "    visited.add(current)\n",
    "    detected.remove(current)\n",
    "    \n",
    "    current_top = current[0]\n",
    "    current_bottom = current[1]\n",
    "    current_edges = set(itertools.product(current_top, current_bottom))\n",
    "    \n",
    "    if not final_edges.intersection(current_edges):\n",
    "        final.add(current)\n",
    "        final_edges.update(tuple(current_edges))\n",
    "#     print(\"FINAL\",final_edges)\n",
    "        \n",
    "detected = final\n",
    "len(detected)"
   ]
  },
  {
   "cell_type": "code",
   "execution_count": 168,
   "metadata": {},
   "outputs": [
    {
     "data": {
      "text/plain": [
       "647"
      ]
     },
     "execution_count": 168,
     "metadata": {},
     "output_type": "execute_result"
    }
   ],
   "source": [
    "# DETECTE LES NOEUDS QUI FONT \"PONTS\" ENTRE DEUX BICLIQUES\n",
    "\n",
    "# detected = detected_or.copy()\n",
    "count_all = Counter({})\n",
    "for biclique in detected:\n",
    "#     print(biclique)\n",
    "    count_current = Counter(chain.from_iterable(biclique))\n",
    "#     print(count_current)\n",
    "    count_all.update(count_current)\n",
    "    \n",
    "# for k,v in count_all.items():\n",
    "#     print(k,v)\n",
    "    \n",
    "len(count_all)"
   ]
  },
  {
   "cell_type": "code",
   "execution_count": 170,
   "metadata": {},
   "outputs": [
    {
     "data": {
      "image/png": "[encoded data removed]",
      "text/plain": [
       "<Figure size 432x288 with 1 Axes>"
      ]
     },
     "metadata": {
      "needs_background": "light"
     },
     "output_type": "display_data"
    }
   ],
   "source": [
    "distribution = Counter(count_all.values())\n",
    "\n",
    "index_name = \"degré vers des bicliques maximales\"\n",
    "df_distribution = pd.DataFrame.from_dict(distribution, orient='index').reset_index()\n",
    "df_distribution.rename(columns={'index':index_name,0:'count'}, inplace=True)\n",
    "df_distribution.sort_values(by=index_name,ascending=1, inplace=True) # sort the degree by ascending order\n",
    "ax = df_distribution.plot.bar(x=index_name, y=\"count\", title=\"Distribution des degrés vers des bicliques maximales\", rot=0)\n"
   ]
  },
  {
   "cell_type": "code",
   "execution_count": 162,
   "metadata": {},
   "outputs": [
    {
     "data": {
      "image/png": "[encoded data removed]",
      "text/plain": [
       "<Figure size 432x288 with 1 Axes>"
      ]
     },
     "metadata": {
      "needs_background": "light"
     },
     "output_type": "display_data"
    }
   ],
   "source": [
    "distribution = Counter(count_all.values())\n",
    "\n",
    "index_name = \"degré vers des bicliques maximales\"\n",
    "df_distribution = pd.DataFrame.from_dict(distribution, orient='index').reset_index()\n",
    "df_distribution.rename(columns={'index':index_name,0:'count'}, inplace=True)\n",
    "df_distribution.sort_values(by=index_name,ascending=1, inplace=True) # sort the degree by ascending order\n",
    "ax = df_distribution.plot.bar(x=index_name, y=\"count\", title=\"Distribution des degrés vers des bicliques maximales\", rot=0)\n"
   ]
  },
  {
   "cell_type": "code",
   "execution_count": 16,
   "metadata": {},
   "outputs": [
    {
     "data": {
      "text/plain": [
       "{('C', 3)}"
      ]
     },
     "execution_count": 16,
     "metadata": {},
     "output_type": "execute_result"
    }
   ],
   "source": [
    "a = set([(\"C\",3)])\n",
    "b = {('C', 3), ('C', 4), ('C', 5), ('B', 3), ('B', 4), ('B', 5)}\n",
    "a.intersection(b)\n",
    "a"
   ]
  },
  {
   "cell_type": "code",
   "execution_count": 118,
   "metadata": {},
   "outputs": [
    {
     "name": "stdout",
     "output_type": "stream",
     "text": [
      "CURRENT (('A', 'D'), (1, 2, 7))\n",
      "Counter({'A': 1, 'D': 1, 1: 1, 2: 1, 7: 1})\n",
      "Counter({'A': 1, 'D': 1, 1: 1, 2: 1, 7: 1})\n",
      "HERE (('A', 'D'), (1, 2, 7))\n",
      "CURRENT (('B', 'A', 'D'), (1, 2))\n",
      "Counter({'B': 1, 'A': 1, 'D': 1, 1: 1, 2: 1})\n",
      "Counter({'A': 2, 'D': 2, 1: 2, 2: 2, 'B': 1, 7: 1})\n",
      "CURRENT (('C', 'B'), (3, 4, 5))\n",
      "Counter({'C': 1, 'B': 1, 3: 1, 4: 1, 5: 1})\n",
      "Counter({'C': 1, 'B': 1, 3: 1, 4: 1, 5: 1, 'A': 1, 'D': 1, 1: 1, 2: 1, 7: 1})\n",
      "HERE (('C', 'B'), (3, 4, 5))\n"
     ]
    },
    {
     "data": {
      "text/plain": [
       "[(('A', 'D'), (1, 2, 7)), (('C', 'B'), (3, 4, 5))]"
      ]
     },
     "execution_count": 118,
     "metadata": {},
     "output_type": "execute_result"
    }
   ],
   "source": [
    "# ELIMINE LES BICLIQUES AYANT DES NOEUDS EN COMMUN\n",
    "detected = detected_or.copy()\n",
    "final = []\n",
    "visited = []\n",
    "\n",
    "count_all = Counter({})\n",
    "# while len(visited) != len(detected):\n",
    "while detected:\n",
    "    currenta= random.sample(detected, 1)\n",
    "    current = currenta[0]\n",
    "    print(\"CURRENT\",current)\n",
    "    visited.append(current)\n",
    "    detected.remove(current)\n",
    "    \n",
    "    count_current = Counter(chain.from_iterable(current))\n",
    "    print(count_current)\n",
    "    \n",
    "#     addition = count_all + dict(count_current)\n",
    "    addition = Counter({})\n",
    "    addition.update(count_current)\n",
    "    addition.update(count_all)\n",
    "    print(addition)\n",
    "    \n",
    "    if len({k:v for k,v in addition.items() if v>1}) != 0:\n",
    "        pass\n",
    "    else:\n",
    "        print(\"HERE\", current)\n",
    "        final.append(current)\n",
    "#         count_all = count_all + dict(count_current)\n",
    "        count_all.update(count_current)\n",
    "      \n",
    "final"
   ]
  },
  {
   "cell_type": "code",
   "execution_count": 59,
   "metadata": {},
   "outputs": [
    {
     "data": {
      "text/plain": [
       "1"
      ]
     },
     "execution_count": 59,
     "metadata": {},
     "output_type": "execute_result"
    }
   ],
   "source": [
    "a = Counter(chain.from_iterable(chain.from_iterable(detected)))\n",
    "len({k:v for k,v in a.items() if v>1})\n"
   ]
  },
  {
   "cell_type": "code",
   "execution_count": 86,
   "metadata": {},
   "outputs": [
    {
     "ename": "TypeError",
     "evalue": "unsupported operand type(s) for +: 'dict' and 'dict'",
     "output_type": "error",
     "traceback": [
      "\u001b[0;31m---------------------------------------------------------------------------\u001b[0m",
      "\u001b[0;31mTypeError\u001b[0m                                 Traceback (most recent call last)",
      "\u001b[0;32m<ipython-input-86-89adf49694cb>\u001b[0m in \u001b[0;36m<module>\u001b[0;34m\u001b[0m\n\u001b[1;32m      1\u001b[0m \u001b[0md1\u001b[0m \u001b[0;34m=\u001b[0m \u001b[0;34m{\u001b[0m\u001b[0;36m1\u001b[0m\u001b[0;34m:\u001b[0m\u001b[0;36m2\u001b[0m\u001b[0;34m}\u001b[0m\u001b[0;34m\u001b[0m\u001b[0;34m\u001b[0m\u001b[0m\n\u001b[1;32m      2\u001b[0m \u001b[0md2\u001b[0m \u001b[0;34m=\u001b[0m \u001b[0;34m{\u001b[0m\u001b[0;36m3\u001b[0m\u001b[0;34m:\u001b[0m\u001b[0;36m2\u001b[0m\u001b[0;34m}\u001b[0m\u001b[0;34m\u001b[0m\u001b[0;34m\u001b[0m\u001b[0m\n\u001b[0;32m----> 3\u001b[0;31m \u001b[0md1\u001b[0m\u001b[0;34m+\u001b[0m\u001b[0md2\u001b[0m\u001b[0;34m\u001b[0m\u001b[0;34m\u001b[0m\u001b[0m\n\u001b[0m",
      "\u001b[0;31mTypeError\u001b[0m: unsupported operand type(s) for +: 'dict' and 'dict'"
     ]
    }
   ],
   "source": [
    "d1 = {1:2}\n",
    "d2 = {3:2}\n",
    "d1+d2"
   ]
  },
  {
   "cell_type": "code",
   "execution_count": 23,
   "metadata": {
    "scrolled": true
   },
   "outputs": [
    {
     "name": "stdout",
     "output_type": "stream",
     "text": [
      "A 1\n",
      "B 1\n",
      "C 1\n",
      "D 1\n",
      "LEN 2\n"
     ]
    },
    {
     "data": {
      "text/plain": [
       "{(frozenset({'A', 'B'}), (1, 2)), (frozenset({'C', 'D'}), (2, 3))}"
      ]
     },
     "execution_count": 23,
     "metadata": {},
     "output_type": "execute_result"
    }
   ],
   "source": [
    "new_detected = set()\n",
    "\n",
    "for vertex in bg.top:\n",
    "    count = 0\n",
    "    for d in detected:\n",
    "        if vertex in d[0]:\n",
    "            count = count+1\n",
    "            new_detected.add(d)\n",
    "\n",
    "\n",
    "    print(vertex, count)\n",
    "    \n",
    "# print(\"NEW DETECTED\", new_detected)\n",
    "print(\"LEN\",len(new_detected))\n",
    "new_detected"
   ]
  },
  {
   "cell_type": "code",
   "execution_count": 24,
   "metadata": {},
   "outputs": [
    {
     "name": "stdout",
     "output_type": "stream",
     "text": [
      "1 1\n",
      "2 2\n",
      "3 1\n",
      "LEN 2\n"
     ]
    },
    {
     "data": {
      "text/plain": [
       "{(frozenset({'A', 'B'}), (1, 2)), (frozenset({'C', 'D'}), (2, 3))}"
      ]
     },
     "execution_count": 24,
     "metadata": {},
     "output_type": "execute_result"
    }
   ],
   "source": [
    "new_detected2 = set()\n",
    "\n",
    "for vertex in bg.bottom:\n",
    "    count = 0\n",
    "    for d in new_detected:\n",
    "        if vertex in d[1]:\n",
    "            count = count+1\n",
    "            new_detected2.add(d)\n",
    "\n",
    "#         if count ==1:\n",
    "#             break\n",
    "    print(vertex, count)\n",
    "    \n",
    "    \n",
    "\n",
    "    \n",
    "# print(\"NEW DETECTED\", new_detected)\n",
    "print(\"LEN\",len(new_detected2))\n",
    "new_detected"
   ]
  },
  {
   "cell_type": "code",
   "execution_count": null,
   "metadata": {},
   "outputs": [],
   "source": [
    "new_detected2 = set()\n",
    "\n",
    "for vertex in bg.bottom:\n",
    "    count = 0\n",
    "    for d in new_detected:\n",
    "        if vertex in d[0]:\n",
    "            count = count+1\n",
    "            new_detected2.add(d)\n",
    "\n",
    "#         if count ==1:\n",
    "#             break\n",
    "    print(vertex, count)\n",
    "    \n",
    "# print(\"NEW DETECTED\", new_detected)\n",
    "print(\"LEN\",len(new_detected2))"
   ]
  },
  {
   "cell_type": "code",
   "execution_count": 32,
   "metadata": {},
   "outputs": [
    {
     "data": {
      "text/plain": [
       "True"
      ]
     },
     "execution_count": 32,
     "metadata": {},
     "output_type": "execute_result"
    }
   ],
   "source": [
    "z = frozenset({'B', 'C'})\n",
    "\"B\" in z"
   ]
  },
  {
   "cell_type": "code",
   "execution_count": 38,
   "metadata": {},
   "outputs": [
    {
     "data": {
      "text/plain": [
       "dict_keys([1, 2, 3, 4, 5, 6])"
      ]
     },
     "execution_count": 38,
     "metadata": {},
     "output_type": "execute_result"
    }
   ],
   "source": [
    "bg.bottom.keys()"
   ]
  },
  {
   "cell_type": "code",
   "execution_count": 40,
   "metadata": {},
   "outputs": [
    {
     "data": {
      "text/plain": [
       "set"
      ]
     },
     "execution_count": 40,
     "metadata": {},
     "output_type": "execute_result"
    }
   ],
   "source": [
    "type(set(bg.bottom.keys()))"
   ]
  },
  {
   "cell_type": "code",
   "execution_count": 51,
   "metadata": {},
   "outputs": [
    {
     "data": {
      "text/plain": [
       "set()"
      ]
     },
     "execution_count": 51,
     "metadata": {},
     "output_type": "execute_result"
    }
   ],
   "source": [
    "consensus_set = set()\n",
    "consensus_set.intersection({1,2})"
   ]
  },
  {
   "cell_type": "code",
   "execution_count": 53,
   "metadata": {},
   "outputs": [
    {
     "data": {
      "text/plain": [
       "{5}"
      ]
     },
     "execution_count": 53,
     "metadata": {},
     "output_type": "execute_result"
    }
   ],
   "source": [
    "set.intersection({5},{4,5})"
   ]
  },
  {
   "cell_type": "code",
   "execution_count": 92,
   "metadata": {},
   "outputs": [],
   "source": [
    "Q = queue.Queue()"
   ]
  },
  {
   "cell_type": "code",
   "execution_count": 103,
   "metadata": {},
   "outputs": [],
   "source": [
    "Q.put(1)\n",
    "Q.put(2)\n",
    "Q.put(3)\n",
    "Q.put(3)\n",
    "Q.put(frozenset())"
   ]
  },
  {
   "cell_type": "code",
   "execution_count": 104,
   "metadata": {},
   "outputs": [
    {
     "name": "stdout",
     "output_type": "stream",
     "text": [
      "1\n",
      "2\n",
      "3\n",
      "3\n",
      "frozenset()\n"
     ]
    }
   ],
   "source": [
    "while not Q.empty():\n",
    "    print(Q.get())"
   ]
  },
  {
   "cell_type": "code",
   "execution_count": 119,
   "metadata": {},
   "outputs": [],
   "source": [
    "S = {frozenset({1,2}),frozenset({1})}\n",
    "D = frozenset({1,2})"
   ]
  },
  {
   "cell_type": "code",
   "execution_count": 14,
   "metadata": {},
   "outputs": [
    {
     "ename": "AttributeError",
     "evalue": "'frozenset' object has no attribute 'empty'",
     "output_type": "error",
     "traceback": [
      "\u001b[0;31m---------------------------------------------------------------------------\u001b[0m",
      "\u001b[0;31mAttributeError\u001b[0m                            Traceback (most recent call last)",
      "\u001b[0;32m<ipython-input-14-dab85b810835>\u001b[0m in \u001b[0;36m<module>\u001b[0;34m\u001b[0m\n\u001b[1;32m      1\u001b[0m \u001b[0mD\u001b[0m \u001b[0;34m=\u001b[0m \u001b[0mfrozenset\u001b[0m\u001b[0;34m(\u001b[0m\u001b[0;34m)\u001b[0m\u001b[0;34m\u001b[0m\u001b[0;34m\u001b[0m\u001b[0m\n\u001b[0;32m----> 2\u001b[0;31m \u001b[0mD\u001b[0m\u001b[0;34m.\u001b[0m\u001b[0mempty\u001b[0m\u001b[0;34m(\u001b[0m\u001b[0;34m)\u001b[0m\u001b[0;34m\u001b[0m\u001b[0;34m\u001b[0m\u001b[0m\n\u001b[0m",
      "\u001b[0;31mAttributeError\u001b[0m: 'frozenset' object has no attribute 'empty'"
     ]
    }
   ],
   "source": [
    "D = frozenset()\n",
    "D.empty()"
   ]
  },
  {
   "cell_type": "code",
   "execution_count": null,
   "metadata": {},
   "outputs": [],
   "source": [
    "a = "
   ]
  },
  {
   "cell_type": "code",
   "execution_count": null,
   "metadata": {},
   "outputs": [],
   "source": []
  },
  {
   "cell_type": "code",
   "execution_count": 120,
   "metadata": {},
   "outputs": [],
   "source": [
    "S.add(frozenset({2,1}))"
   ]
  },
  {
   "cell_type": "code",
   "execution_count": 121,
   "metadata": {},
   "outputs": [
    {
     "data": {
      "text/plain": [
       "{frozenset({1}), frozenset({1, 2})}"
      ]
     },
     "execution_count": 121,
     "metadata": {},
     "output_type": "execute_result"
    }
   ],
   "source": [
    "S"
   ]
  },
  {
   "cell_type": "code",
   "execution_count": 123,
   "metadata": {},
   "outputs": [
    {
     "data": {
      "text/plain": [
       "True"
      ]
     },
     "execution_count": 123,
     "metadata": {},
     "output_type": "execute_result"
    }
   ],
   "source": [
    "D in"
   ]
  },
  {
   "cell_type": "code",
   "execution_count": 125,
   "metadata": {},
   "outputs": [
    {
     "data": {
      "text/plain": [
       "2"
      ]
     },
     "execution_count": 125,
     "metadata": {},
     "output_type": "execute_result"
    }
   ],
   "source": [
    "len(S)"
   ]
  },
  {
   "cell_type": "code",
   "execution_count": null,
   "metadata": {},
   "outputs": [],
   "source": [
    "a = set{}"
   ]
  }
 ],
 "metadata": {
  "kernelspec": {
   "display_name": "Python 3",
   "language": "python",
   "name": "python3"
  },
  "language_info": {
   "codemirror_mode": {
    "name": "ipython",
    "version": 3
   },
   "file_extension": ".py",
   "mimetype": "text/x-python",
   "name": "python",
   "nbconvert_exporter": "python",
   "pygments_lexer": "ipython3",
   "version": "3.7.3"
  },
  "toc": {
   "base_numbering": 1,
   "nav_menu": {},
   "number_sections": true,
   "sideBar": true,
   "skip_h1_title": false,
   "title_cell": "Table of Contents",
   "title_sidebar": "Contents",
   "toc_cell": false,
   "toc_position": {},
   "toc_section_display": true,
   "toc_window_display": false
  }
 },
 "nbformat": 4,
 "nbformat_minor": 4
}
