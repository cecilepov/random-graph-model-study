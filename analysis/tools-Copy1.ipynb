{
 "cells": [
  {
   "cell_type": "code",
   "execution_count": 1,
   "metadata": {},
   "outputs": [],
   "source": [
    "# allows the code to be reload automatically, without restarting the whole kernel\n",
    "\n",
    "%load_ext autoreload\n",
    "%autoreload 1\n",
    "%aimport Graph\n",
    "%aimport BipartiteGraph\n",
    "%aimport UnipartiteGraph\n",
    "%aimport TripartiteGraph\n",
    "\n",
    "from Graph import Graph # import our file \n",
    "from BipartiteGraph import BipartiteGraph # import our file \n",
    "from UnipartiteGraph import UnipartiteGraph # import our file \n",
    "from TripartiteGraph import TripartiteGraph # import our file \n",
    "\n",
    "import pandas as pd\n",
    "import numpy as np\n",
    "import networkx as nx\n",
    "import matplotlib.pyplot as plt\n",
    "import random \n",
    "from guppy import hpy\n",
    "import sys\n",
    "\n",
    "from collections import defaultdict\n",
    "from random import shuffle\n",
    "from itertools import chain\n",
    "import time\n",
    "import random\n",
    "from collections import Counter\n",
    "from itertools import chain\n",
    "import itertools\n",
    "import queue\n",
    "from copy import deepcopy\n",
    "\n",
    "import matplotlib.pyplot as plt\n",
    "import pickle\n",
    "import seaborn as sns ; sns.set(style=\"ticks\", color_codes=True)\n",
    "\n",
    "import sys\n",
    "sys.setrecursionlimit(15000)"
   ]
  },
  {
   "cell_type": "markdown",
   "metadata": {},
   "source": [
    "# Data"
   ]
  },
  {
   "cell_type": "code",
   "execution_count": 2,
   "metadata": {},
   "outputs": [],
   "source": [
    "# LOAD DATASETS\n",
    "\n",
    "bpse   = BipartiteGraph.from_file(\"data/examples/bpse_path.BIP.ORIGIN\",separator=\" \")\n",
    "# linux  = BipartiteGraph.from_file(\"data/bipartite/lkml_person-thread/out.lkml_person-thread_person-thread\",separator=\" \",start = 2)\n",
    "# actors = BipartiteGraph.from_file(\"/home/cecile/Documents/LIP6/github/data/bipartite/actor-movie/out.actor-movie\",separator=\" \",start = 1)\n",
    "hepB   = BipartiteGraph.from_file(\"data/examples/hepB.BIP.ORIGIN\",separator=\" \")\n",
    "\n",
    "# github = BipartiteGraph.from_file(\"/home/cecile/Documents/LIP6/github/data/bipartite/github/out.github\",separator=\" \",start = 2)\n",
    "arxiv = BipartiteGraph.from_file(\"/home/cecile/Documents/LIP6/github/data/bipartite/opsahl-collaboration/out.opsahl-collaboration\",separator=\" \",start = 2)\n",
    "\n",
    "norway   = BipartiteGraph.from_file(\"data/bipartite/net2m_2011-08-01.txt\",separator=\" \")\n",
    "newman   = BipartiteGraph.from_file(\"data/bipartite/Newman-Cond_mat_95-99-two_mode.txt\",separator=\" \")\n",
    "\n",
    "woman = BipartiteGraph.from_file(\"data/bipartite/Davis_southern_club_women-two_mode.txt\",separator=\" \")\n"
   ]
  },
  {
   "cell_type": "code",
   "execution_count": 3,
   "metadata": {},
   "outputs": [],
   "source": [
    "# LOAD MAX BICLIQUES\n",
    "file = open('generated/bicliques_all/bpse.mb', 'rb')\n",
    "bpse_mb = pickle.load(file)\n",
    "file.close()\n",
    "\n",
    "file = open('generated/bicliques_all/hepB.mb', 'rb')\n",
    "hepB_mb = pickle.load(file)\n",
    "file.close()\n",
    "\n",
    "file = open('generated/bicliques_all/arxiv.mb', 'rb')\n",
    "arxiv_mb = pickle.load(file)\n",
    "file.close()\n",
    "\n",
    "file = open('generated/bicliques_all/norwegian.mb', 'rb')\n",
    "norway_mb = pickle.load(file)\n",
    "file.close()\n",
    "\n",
    "file = open('generated/bicliques_all/newman.mb', 'rb')\n",
    "newman_mb = pickle.load(file)\n",
    "file.close()\n",
    "\n",
    "file = open('generated/bicliques_all/woman.mb', 'rb')\n",
    "woman_mb = pickle.load(file)\n",
    "file.close()"
   ]
  },
  {
   "cell_type": "code",
   "execution_count": 4,
   "metadata": {},
   "outputs": [
    {
     "name": "stdout",
     "output_type": "stream",
     "text": [
      "--- 0.37349390983581543 seconds ---\n"
     ]
    },
    {
     "data": {
      "text/html": [
       "<div>\n",
       "<style scoped>\n",
       "    .dataframe tbody tr th:only-of-type {\n",
       "        vertical-align: middle;\n",
       "    }\n",
       "\n",
       "    .dataframe tbody tr th {\n",
       "        vertical-align: top;\n",
       "    }\n",
       "\n",
       "    .dataframe thead th {\n",
       "        text-align: right;\n",
       "    }\n",
       "</style>\n",
       "<table border=\"1\" class=\"dataframe\">\n",
       "  <thead>\n",
       "    <tr style=\"text-align: right;\">\n",
       "      <th></th>\n",
       "      <th>value</th>\n",
       "    </tr>\n",
       "  </thead>\n",
       "  <tbody>\n",
       "    <tr>\n",
       "      <th>nb_vertices</th>\n",
       "      <td>522</td>\n",
       "    </tr>\n",
       "    <tr>\n",
       "      <th>nb_edges</th>\n",
       "      <td>7089</td>\n",
       "    </tr>\n",
       "    <tr>\n",
       "      <th>density</th>\n",
       "      <td>0.0151062</td>\n",
       "    </tr>\n",
       "    <tr>\n",
       "      <th>nb_connected_components</th>\n",
       "      <td>37</td>\n",
       "    </tr>\n",
       "    <tr>\n",
       "      <th>degree_avg</th>\n",
       "      <td>13.5805</td>\n",
       "    </tr>\n",
       "    <tr>\n",
       "      <th>degree_sum</th>\n",
       "      <td>7089</td>\n",
       "    </tr>\n",
       "    <tr>\n",
       "      <th>degree_min</th>\n",
       "      <td>1</td>\n",
       "    </tr>\n",
       "    <tr>\n",
       "      <th>degree_max</th>\n",
       "      <td>126</td>\n",
       "    </tr>\n",
       "  </tbody>\n",
       "</table>\n",
       "</div>"
      ],
      "text/plain": [
       "                             value\n",
       "nb_vertices                    522\n",
       "nb_edges                      7089\n",
       "density                  0.0151062\n",
       "nb_connected_components         37\n",
       "degree_avg                 13.5805\n",
       "degree_sum                    7089\n",
       "degree_min                       1\n",
       "degree_max                     126"
      ]
     },
     "execution_count": 4,
     "metadata": {},
     "output_type": "execute_result"
    },
    {
     "data": {
      "image/png": "[encoded data removed]",
      "text/plain": [
       "<Figure size 432x288 with 1 Axes>"
      ]
     },
     "metadata": {},
     "output_type": "display_data"
    }
   ],
   "source": [
    "test   = BipartiteGraph.from_file(\"data/bipartite/OF_two-mode_weightedmsg.txt\",separator=\" \")\n",
    "test.analyze(test.bottom)"
   ]
  },
  {
   "cell_type": "code",
   "execution_count": 7,
   "metadata": {},
   "outputs": [
    {
     "name": "stdout",
     "output_type": "stream",
     "text": [
      "--- 16.065895080566406 seconds ---\n"
     ]
    },
    {
     "data": {
      "text/html": [
       "<div>\n",
       "<style scoped>\n",
       "    .dataframe tbody tr th:only-of-type {\n",
       "        vertical-align: middle;\n",
       "    }\n",
       "\n",
       "    .dataframe tbody tr th {\n",
       "        vertical-align: top;\n",
       "    }\n",
       "\n",
       "    .dataframe thead th {\n",
       "        text-align: right;\n",
       "    }\n",
       "</style>\n",
       "<table border=\"1\" class=\"dataframe\">\n",
       "  <thead>\n",
       "    <tr style=\"text-align: right;\">\n",
       "      <th></th>\n",
       "      <th>value</th>\n",
       "    </tr>\n",
       "  </thead>\n",
       "  <tbody>\n",
       "    <tr>\n",
       "      <th>nb_vertices</th>\n",
       "      <td>22015</td>\n",
       "    </tr>\n",
       "    <tr>\n",
       "      <th>nb_edges</th>\n",
       "      <td>58595</td>\n",
       "    </tr>\n",
       "    <tr>\n",
       "      <th>density</th>\n",
       "      <td>0.000159129</td>\n",
       "    </tr>\n",
       "    <tr>\n",
       "      <th>nb_connected_components</th>\n",
       "      <td>1312</td>\n",
       "    </tr>\n",
       "    <tr>\n",
       "      <th>degree_avg</th>\n",
       "      <td>2.66159</td>\n",
       "    </tr>\n",
       "    <tr>\n",
       "      <th>degree_sum</th>\n",
       "      <td>58595</td>\n",
       "    </tr>\n",
       "    <tr>\n",
       "      <th>degree_min</th>\n",
       "      <td>1</td>\n",
       "    </tr>\n",
       "    <tr>\n",
       "      <th>degree_max</th>\n",
       "      <td>18</td>\n",
       "    </tr>\n",
       "  </tbody>\n",
       "</table>\n",
       "</div>"
      ],
      "text/plain": [
       "                               value\n",
       "nb_vertices                    22015\n",
       "nb_edges                       58595\n",
       "density                  0.000159129\n",
       "nb_connected_components         1312\n",
       "degree_avg                   2.66159\n",
       "degree_sum                     58595\n",
       "degree_min                         1\n",
       "degree_max                        18"
      ]
     },
     "execution_count": 7,
     "metadata": {},
     "output_type": "execute_result"
    },
    {
     "data": {
      "image/png": "[encoded data removed]",
      "text/plain": [
       "<Figure size 432x288 with 1 Axes>"
      ]
     },
     "metadata": {},
     "output_type": "display_data"
    }
   ],
   "source": [
    "newman.analyze(newman.bottom)"
   ]
  },
  {
   "cell_type": "code",
   "execution_count": 10,
   "metadata": {},
   "outputs": [
    {
     "name": "stdout",
     "output_type": "stream",
     "text": [
      "--- 0.11256194114685059 seconds ---\n"
     ]
    },
    {
     "data": {
      "text/html": [
       "<div>\n",
       "<style scoped>\n",
       "    .dataframe tbody tr th:only-of-type {\n",
       "        vertical-align: middle;\n",
       "    }\n",
       "\n",
       "    .dataframe tbody tr th {\n",
       "        vertical-align: top;\n",
       "    }\n",
       "\n",
       "    .dataframe thead th {\n",
       "        text-align: right;\n",
       "    }\n",
       "</style>\n",
       "<table border=\"1\" class=\"dataframe\">\n",
       "  <thead>\n",
       "    <tr style=\"text-align: right;\">\n",
       "      <th></th>\n",
       "      <th>value</th>\n",
       "    </tr>\n",
       "  </thead>\n",
       "  <tbody>\n",
       "    <tr>\n",
       "      <th>nb_vertices</th>\n",
       "      <td>1421</td>\n",
       "    </tr>\n",
       "    <tr>\n",
       "      <th>nb_edges</th>\n",
       "      <td>1746</td>\n",
       "    </tr>\n",
       "    <tr>\n",
       "      <th>density</th>\n",
       "      <td>0.00346116</td>\n",
       "    </tr>\n",
       "    <tr>\n",
       "      <th>nb_connected_components</th>\n",
       "      <td>111</td>\n",
       "    </tr>\n",
       "    <tr>\n",
       "      <th>degree_avg</th>\n",
       "      <td>1.22871</td>\n",
       "    </tr>\n",
       "    <tr>\n",
       "      <th>degree_sum</th>\n",
       "      <td>1746</td>\n",
       "    </tr>\n",
       "    <tr>\n",
       "      <th>degree_min</th>\n",
       "      <td>1</td>\n",
       "    </tr>\n",
       "    <tr>\n",
       "      <th>degree_max</th>\n",
       "      <td>8</td>\n",
       "    </tr>\n",
       "  </tbody>\n",
       "</table>\n",
       "</div>"
      ],
      "text/plain": [
       "                              value\n",
       "nb_vertices                    1421\n",
       "nb_edges                       1746\n",
       "density                  0.00346116\n",
       "nb_connected_components         111\n",
       "degree_avg                  1.22871\n",
       "degree_sum                     1746\n",
       "degree_min                        1\n",
       "degree_max                        8"
      ]
     },
     "execution_count": 10,
     "metadata": {},
     "output_type": "execute_result"
    },
    {
     "data": {
      "image/png": "[encoded data removed]",
      "text/plain": [
       "<Figure size 432x288 with 1 Axes>"
      ]
     },
     "metadata": {
      "needs_background": "light"
     },
     "output_type": "display_data"
    }
   ],
   "source": [
    "net.analyze(net.bottom)"
   ]
  },
  {
   "cell_type": "code",
   "execution_count": 30,
   "metadata": {},
   "outputs": [
    {
     "name": "stdout",
     "output_type": "stream",
     "text": [
      "--- 18.317618131637573 seconds ---\n"
     ]
    },
    {
     "data": {
      "text/html": [
       "<div>\n",
       "<style scoped>\n",
       "    .dataframe tbody tr th:only-of-type {\n",
       "        vertical-align: middle;\n",
       "    }\n",
       "\n",
       "    .dataframe tbody tr th {\n",
       "        vertical-align: top;\n",
       "    }\n",
       "\n",
       "    .dataframe thead th {\n",
       "        text-align: right;\n",
       "    }\n",
       "</style>\n",
       "<table border=\"1\" class=\"dataframe\">\n",
       "  <thead>\n",
       "    <tr style=\"text-align: right;\">\n",
       "      <th></th>\n",
       "      <th>value</th>\n",
       "    </tr>\n",
       "  </thead>\n",
       "  <tbody>\n",
       "    <tr>\n",
       "      <th>nb_vertices</th>\n",
       "      <td>16726</td>\n",
       "    </tr>\n",
       "    <tr>\n",
       "      <th>nb_edges</th>\n",
       "      <td>58595</td>\n",
       "    </tr>\n",
       "    <tr>\n",
       "      <th>density</th>\n",
       "      <td>0.000159129</td>\n",
       "    </tr>\n",
       "    <tr>\n",
       "      <th>nb_connected_components</th>\n",
       "      <td>1312</td>\n",
       "    </tr>\n",
       "    <tr>\n",
       "      <th>degree_avg</th>\n",
       "      <td>3.50323</td>\n",
       "    </tr>\n",
       "    <tr>\n",
       "      <th>degree_sum</th>\n",
       "      <td>58595</td>\n",
       "    </tr>\n",
       "    <tr>\n",
       "      <th>degree_min</th>\n",
       "      <td>1</td>\n",
       "    </tr>\n",
       "    <tr>\n",
       "      <th>degree_max</th>\n",
       "      <td>116</td>\n",
       "    </tr>\n",
       "  </tbody>\n",
       "</table>\n",
       "</div>"
      ],
      "text/plain": [
       "                               value\n",
       "nb_vertices                    16726\n",
       "nb_edges                       58595\n",
       "density                  0.000159129\n",
       "nb_connected_components         1312\n",
       "degree_avg                   3.50323\n",
       "degree_sum                     58595\n",
       "degree_min                         1\n",
       "degree_max                       116"
      ]
     },
     "execution_count": 30,
     "metadata": {},
     "output_type": "execute_result"
    },
    {
     "data": {
      "image/png": "[encoded data removed]",
      "text/plain": [
       "<Figure size 432x288 with 1 Axes>"
      ]
     },
     "metadata": {
      "needs_background": "light"
     },
     "output_type": "display_data"
    }
   ],
   "source": [
    "\n",
    "\n",
    "newman.analyze(newman.top)"
   ]
  },
  {
   "cell_type": "code",
   "execution_count": 3,
   "metadata": {},
   "outputs": [
    {
     "data": {
      "text/plain": [
       "{(frozenset({1356, 1357}), frozenset({257, 258, 260})),\n",
       " (frozenset({150,\n",
       "             178,\n",
       "             179,\n",
       "             180,\n",
       "             181,\n",
       "             182,\n",
       "             183,\n",
       "             184,\n",
       "             185,\n",
       "             186,\n",
       "             187,\n",
       "             188,\n",
       "             189,\n",
       "             190}),\n",
       "  frozenset({9, 10})),\n",
       " (frozenset({685,\n",
       "             783,\n",
       "             784,\n",
       "             785,\n",
       "             786,\n",
       "             787,\n",
       "             788,\n",
       "             789,\n",
       "             790,\n",
       "             791,\n",
       "             792,\n",
       "             838,\n",
       "             839,\n",
       "             840,\n",
       "             841,\n",
       "             842,\n",
       "             1371,\n",
       "             1423,\n",
       "             1424,\n",
       "             1425,\n",
       "             1426,\n",
       "             1427,\n",
       "             1428}),\n",
       "  frozenset({278, 280})),\n",
       " (frozenset({716, 717}), frozenset({120, 257, 264, 276})),\n",
       " (frozenset({1144, 1145, 1146, 1147}), frozenset({214, 215, 216})),\n",
       " (frozenset({112, 113, 114, 115, 116, 117, 118, 119, 120, 121, 122, 123, 124}),\n",
       "  frozenset({2, 286, 287})),\n",
       " (frozenset({624,\n",
       "             625,\n",
       "             626,\n",
       "             627,\n",
       "             633,\n",
       "             1325,\n",
       "             1326,\n",
       "             1327,\n",
       "             1328,\n",
       "             1329,\n",
       "             1330,\n",
       "             1331,\n",
       "             1332,\n",
       "             1333,\n",
       "             1334,\n",
       "             1335,\n",
       "             1336,\n",
       "             1337,\n",
       "             1338}),\n",
       "  frozenset({248, 263, 264, 265, 288, 289})),\n",
       " (frozenset({131, 132, 133, 134, 135, 136, 150, 203, 204, 205, 206, 207}),\n",
       "  frozenset({8, 17})),\n",
       " (frozenset({259, 260, 261, 262}), frozenset({15, 19, 72, 246})),\n",
       " (frozenset({264, 265}), frozenset({15, 19, 69, 233, 246})),\n",
       " (frozenset({242, 243, 244, 245, 246, 386, 387, 388, 389, 390, 391}),\n",
       "  frozenset({35, 36})),\n",
       " (frozenset({271, 272, 273, 274, 275}), frozenset({16, 49, 275})),\n",
       " (frozenset({1105, 1106, 1107, 1108, 1109, 1110, 1111, 1112}),\n",
       "  frozenset({205, 247})),\n",
       " (frozenset({1214, 1230, 1231, 1232, 1233, 1234, 1235, 1236, 1237, 1238}),\n",
       "  frozenset({232, 242, 243})),\n",
       " (frozenset({624,\n",
       "             625,\n",
       "             626,\n",
       "             627,\n",
       "             633,\n",
       "             656,\n",
       "             657,\n",
       "             658,\n",
       "             659,\n",
       "             660,\n",
       "             1325,\n",
       "             1326,\n",
       "             1327,\n",
       "             1328,\n",
       "             1329,\n",
       "             1330,\n",
       "             1331,\n",
       "             1332,\n",
       "             1333,\n",
       "             1334,\n",
       "             1335,\n",
       "             1336,\n",
       "             1337,\n",
       "             1338}),\n",
       "  frozenset({264, 265, 288, 289})),\n",
       " (frozenset({893, 894, 895, 896}), frozenset({167, 168})),\n",
       " (frozenset({376, 377, 378, 379, 380, 381}), frozenset({34, 141})),\n",
       " (frozenset({249, 250, 251, 252}), frozenset({11, 13, 19, 69})),\n",
       " (frozenset({1117, 1118}), frozenset({207, 210})),\n",
       " (frozenset({861, 862, 865, 866}), frozenset({165, 167})),\n",
       " (frozenset({1350, 1351, 1352, 1353}), frozenset({256, 257, 261, 264})),\n",
       " (frozenset({276, 277, 278}), frozenset({17, 62, 74, 110})),\n",
       " (frozenset({118, 119, 120, 121, 122}),\n",
       "  frozenset({2, 104, 249, 254, 286, 287})),\n",
       " (frozenset({37, 38, 39, 40, 240, 241, 242, 243, 244, 245, 246, 247, 248}),\n",
       "  frozenset({11, 14, 72})),\n",
       " (frozenset({798, 799, 800, 801}), frozenset({151, 152, 153, 154})),\n",
       " (frozenset({242, 243, 244, 245, 246, 247, 248}), frozenset({11, 12, 14, 72})),\n",
       " (frozenset({732, 794, 795, 796, 797}), frozenset({150, 155})),\n",
       " (frozenset({359, 493, 525, 526}), frozenset({140, 141, 142})),\n",
       " (frozenset({131,\n",
       "             132,\n",
       "             133,\n",
       "             134,\n",
       "             135,\n",
       "             136,\n",
       "             141,\n",
       "             142,\n",
       "             143,\n",
       "             144,\n",
       "             145,\n",
       "             146,\n",
       "             147,\n",
       "             148,\n",
       "             149}),\n",
       "  frozenset({3, 5, 8})),\n",
       " (frozenset({131, 132, 139}), frozenset({3, 73})),\n",
       " (frozenset({0, 1, 2, 3, 4, 5, 6, 7, 8, 9, 10, 11, 12}), frozenset({0, 39})),\n",
       " (frozenset({634, 635}), frozenset({96, 259})),\n",
       " (frozenset({35, 36}), frozenset({1, 11, 13, 69})),\n",
       " (frozenset({718, 719, 720, 721, 722, 723}), frozenset({121, 122})),\n",
       " (frozenset({203,\n",
       "             204,\n",
       "             205,\n",
       "             206,\n",
       "             208,\n",
       "             209,\n",
       "             253,\n",
       "             254,\n",
       "             255,\n",
       "             256,\n",
       "             257,\n",
       "             258,\n",
       "             259,\n",
       "             260,\n",
       "             261,\n",
       "             262,\n",
       "             263,\n",
       "             264,\n",
       "             265,\n",
       "             266,\n",
       "             267,\n",
       "             268,\n",
       "             269}),\n",
       "  frozenset({15, 19})),\n",
       " (frozenset({531, 532, 533, 534, 535}), frozenset({66, 245})),\n",
       " (frozenset({988, 989}), frozenset({179, 229, 230})),\n",
       " (frozenset({1037, 1038, 1039, 1040, 1041, 1042, 1043, 1044, 1045, 1046}),\n",
       "  frozenset({196, 197, 199, 200})),\n",
       " (frozenset({42, 43}), frozenset({1, 19, 20})),\n",
       " (frozenset({1371, 1423, 1424, 1425, 1426, 1427, 1428}),\n",
       "  frozenset({278, 280, 284})),\n",
       " (frozenset({624,\n",
       "             625,\n",
       "             626,\n",
       "             627,\n",
       "             633,\n",
       "             656,\n",
       "             657,\n",
       "             658,\n",
       "             659,\n",
       "             660,\n",
       "             1325,\n",
       "             1326,\n",
       "             1327,\n",
       "             1328,\n",
       "             1329,\n",
       "             1330,\n",
       "             1331,\n",
       "             1332,\n",
       "             1333,\n",
       "             1334,\n",
       "             1335,\n",
       "             1336,\n",
       "             1337,\n",
       "             1338,\n",
       "             1382,\n",
       "             1383,\n",
       "             1384,\n",
       "             1385,\n",
       "             1386,\n",
       "             1387,\n",
       "             1388,\n",
       "             1389,\n",
       "             1390,\n",
       "             1391}),\n",
       "  frozenset({288, 289})),\n",
       " (frozenset({531, 532, 533}), frozenset({66, 233, 242, 245})),\n",
       " (frozenset({276, 277, 278, 493}), frozenset({62, 74})),\n",
       " (frozenset({49, 50, 51, 1015}), frozenset({189, 190, 195})),\n",
       " (frozenset({656, 657, 658, 659, 660}), frozenset({99, 264, 265, 288, 289})),\n",
       " (frozenset({924, 925, 926, 927, 928, 929}), frozenset({172, 174, 176})),\n",
       " (frozenset({296, 423, 424, 425, 426, 427, 428, 429, 430, 431, 432}),\n",
       "  frozenset({48, 49, 94, 114})),\n",
       " (frozenset({287, 288, 289, 290, 291, 296}), frozenset({18, 50, 114})),\n",
       " (frozenset({282, 283, 284, 624, 625, 626, 627}), frozenset({95, 111, 113})),\n",
       " (frozenset({133,\n",
       "             134,\n",
       "             135,\n",
       "             136,\n",
       "             141,\n",
       "             142,\n",
       "             143,\n",
       "             144,\n",
       "             145,\n",
       "             146,\n",
       "             147,\n",
       "             148,\n",
       "             149,\n",
       "             150}),\n",
       "  frozenset({3, 4, 8})),\n",
       " (frozenset({818, 819, 820, 821, 822}), frozenset({161, 167})),\n",
       " (frozenset({166,\n",
       "             167,\n",
       "             168,\n",
       "             169,\n",
       "             178,\n",
       "             179,\n",
       "             180,\n",
       "             181,\n",
       "             182,\n",
       "             183,\n",
       "             184,\n",
       "             185,\n",
       "             186,\n",
       "             187,\n",
       "             188,\n",
       "             189,\n",
       "             190}),\n",
       "  frozenset({6, 10})),\n",
       " (frozenset({249, 250, 251, 252, 264, 265}), frozenset({19, 69})),\n",
       " (frozenset({1371, 1422, 1423, 1424, 1425, 1426, 1427, 1428}),\n",
       "  frozenset({278, 284})),\n",
       " (frozenset({133, 134, 135, 136, 150}), frozenset({3, 4, 8, 17})),\n",
       " (frozenset({13, 14, 15, 16, 17, 18, 19, 20, 21, 22, 23, 24}),\n",
       "  frozenset({0, 273})),\n",
       " (frozenset({164, 165}), frozenset({5, 92, 131, 132})),\n",
       " (frozenset({131, 132}), frozenset({3, 5, 8, 17, 73, 120, 246})),\n",
       " (frozenset({170, 171, 172, 173, 174, 175}), frozenset({6, 75})),\n",
       " (frozenset({35, 36, 249, 250, 251, 252}), frozenset({11, 13, 69})),\n",
       " (frozenset({688, 689}), frozenset({108, 222, 258, 259})),\n",
       " (frozenset({48, 546, 547, 548, 549}), frozenset({189, 191, 193, 195})),\n",
       " (frozenset({1350, 1351, 1352, 1353, 1354, 1355}), frozenset({256, 257, 264})),\n",
       " (frozenset({48, 49, 546, 547, 548, 549, 1015}), frozenset({189, 193, 195})),\n",
       " (frozenset({5, 6, 7, 8, 9, 10, 11}), frozenset({0, 38, 39})),\n",
       " (frozenset({354, 355, 356, 357}), frozenset({32, 89})),\n",
       " (frozenset({296, 446}), frozenset({49, 76, 94, 114})),\n",
       " (frozenset({748, 749, 750, 751}), frozenset({129, 275})),\n",
       " (frozenset({76,\n",
       "             77,\n",
       "             78,\n",
       "             79,\n",
       "             80,\n",
       "             81,\n",
       "             82,\n",
       "             83,\n",
       "             84,\n",
       "             85,\n",
       "             86,\n",
       "             87,\n",
       "             88,\n",
       "             89,\n",
       "             90,\n",
       "             91,\n",
       "             92,\n",
       "             93,\n",
       "             94,\n",
       "             95}),\n",
       "  frozenset({2, 158, 287})),\n",
       " (frozenset({76,\n",
       "             77,\n",
       "             78,\n",
       "             79,\n",
       "             80,\n",
       "             81,\n",
       "             82,\n",
       "             83,\n",
       "             84,\n",
       "             85,\n",
       "             86,\n",
       "             87,\n",
       "             88,\n",
       "             89,\n",
       "             90,\n",
       "             91,\n",
       "             92,\n",
       "             93,\n",
       "             94,\n",
       "             95,\n",
       "             96,\n",
       "             97,\n",
       "             98,\n",
       "             99,\n",
       "             100,\n",
       "             101,\n",
       "             102,\n",
       "             103,\n",
       "             104,\n",
       "             105,\n",
       "             106,\n",
       "             107,\n",
       "             108,\n",
       "             109,\n",
       "             110,\n",
       "             111,\n",
       "             112,\n",
       "             113,\n",
       "             114,\n",
       "             115,\n",
       "             116,\n",
       "             117,\n",
       "             118,\n",
       "             119,\n",
       "             120,\n",
       "             121,\n",
       "             122,\n",
       "             123,\n",
       "             124}),\n",
       "  frozenset({2, 287})),\n",
       " (frozenset({178, 179, 180, 181, 182, 183, 184, 185, 186, 187, 188, 189, 190}),\n",
       "  frozenset({6, 9, 10, 218})),\n",
       " (frozenset({364, 365, 366, 368, 369, 370}), frozenset({33, 49, 178})),\n",
       " (frozenset({208, 209, 253}), frozenset({15, 19, 73, 246})),\n",
       " (frozenset({317,\n",
       "             930,\n",
       "             931,\n",
       "             932,\n",
       "             933,\n",
       "             934,\n",
       "             935,\n",
       "             936,\n",
       "             937,\n",
       "             938,\n",
       "             939,\n",
       "             940,\n",
       "             941,\n",
       "             942,\n",
       "             943,\n",
       "             944,\n",
       "             945,\n",
       "             946}),\n",
       "  frozenset({172, 175})),\n",
       " (frozenset({1119, 1120, 1121, 1122, 1123, 1124}), frozenset({208, 209})),\n",
       " (frozenset({1306, 1307, 1308}), frozenset({247, 283})),\n",
       " (frozenset({716, 717, 1350, 1351, 1352, 1353, 1354, 1355}),\n",
       "  frozenset({257, 264})),\n",
       " (frozenset({48, 49}), frozenset({2, 189, 193, 194, 195})),\n",
       " (frozenset({49, 50, 51}), frozenset({2, 189, 190, 194, 195})),\n",
       " (frozenset({624,\n",
       "             625,\n",
       "             626,\n",
       "             627,\n",
       "             1382,\n",
       "             1383,\n",
       "             1384,\n",
       "             1385,\n",
       "             1386,\n",
       "             1387,\n",
       "             1388,\n",
       "             1389,\n",
       "             1390,\n",
       "             1391}),\n",
       "  frozenset({262, 288, 289})),\n",
       " (frozenset({1038, 1039, 1042, 1044, 1045, 1046}),\n",
       "  frozenset({196, 197, 198, 199, 200})),\n",
       " (frozenset({311, 312, 313, 314}), frozenset({26, 63})),\n",
       " (frozenset({1164, 1165, 1166, 1167, 1168, 1169}), frozenset({219, 221})),\n",
       " (frozenset({711, 712}), frozenset({117, 270})),\n",
       " (frozenset({208,\n",
       "             209,\n",
       "             253,\n",
       "             254,\n",
       "             255,\n",
       "             256,\n",
       "             259,\n",
       "             260,\n",
       "             261,\n",
       "             262,\n",
       "             264,\n",
       "             265,\n",
       "             266,\n",
       "             267,\n",
       "             268,\n",
       "             269}),\n",
       "  frozenset({15, 19, 246})),\n",
       " (frozenset({647, 650, 651}), frozenset({97, 216})),\n",
       " (frozenset({131, 132, 207}), frozenset({8, 17, 73, 246})),\n",
       " (frozenset({682,\n",
       "             683,\n",
       "             684,\n",
       "             685,\n",
       "             783,\n",
       "             784,\n",
       "             785,\n",
       "             786,\n",
       "             787,\n",
       "             788,\n",
       "             789,\n",
       "             790,\n",
       "             791,\n",
       "             792}),\n",
       "  frozenset({146, 280})),\n",
       " (frozenset({564, 565, 566, 567, 568}), frozenset({78, 91})),\n",
       " (frozenset({578, 579}), frozenset({80, 81, 82, 88})),\n",
       " (frozenset({404, 405, 406, 407, 408, 409}), frozenset({45, 268})),\n",
       " (frozenset({688, 689, 691, 692}), frozenset({108, 258})),\n",
       " (frozenset({685, 783, 784, 785, 786, 787, 788, 789, 790, 791, 792}),\n",
       "  frozenset({146, 278, 280})),\n",
       " (frozenset({624, 625, 626, 627, 632}), frozenset({94, 112, 114})),\n",
       " (frozenset({1020, 1021, 1022, 1023, 1356, 1357, 1358, 1359, 1360}),\n",
       "  frozenset({257, 260})),\n",
       " (frozenset({624, 625, 626, 627, 633}),\n",
       "  frozenset({95, 248, 263, 264, 265, 288, 289})),\n",
       " (frozenset({133, 134, 135, 136}), frozenset({3, 4, 5, 8, 17})),\n",
       " (frozenset({1220, 1221, 1222, 1223, 1224, 1225}), frozenset({231, 238})),\n",
       " (frozenset({518, 519, 520, 521, 522, 523}), frozenset({61, 130})),\n",
       " (frozenset({64, 65}), frozenset({2, 166, 168, 194})),\n",
       " (frozenset({203, 204, 205, 206}), frozenset({8, 15, 17, 19})),\n",
       " (frozenset({117, 118, 119, 120, 121, 122}),\n",
       "  frozenset({2, 249, 254, 286, 287})),\n",
       " (frozenset({991, 992, 993, 994}), frozenset({179, 180})),\n",
       " (frozenset({823, 824, 825, 826, 827, 828, 829}), frozenset({161, 168})),\n",
       " (frozenset({48,\n",
       "             510,\n",
       "             546,\n",
       "             547,\n",
       "             548,\n",
       "             549,\n",
       "             551,\n",
       "             1016,\n",
       "             1017,\n",
       "             1020,\n",
       "             1021,\n",
       "             1022,\n",
       "             1023,\n",
       "             1024,\n",
       "             1025,\n",
       "             1026,\n",
       "             1027}),\n",
       "  frozenset({191, 195})),\n",
       " (frozenset({435, 436, 437, 438, 439}), frozenset({48, 49, 59, 77, 80, 81})),\n",
       " (frozenset({164, 165, 754, 755}), frozenset({131, 132})),\n",
       " (frozenset({382, 383, 384, 385}), frozenset({35, 65})),\n",
       " (frozenset({282, 283, 284}),\n",
       "  frozenset({17, 22, 95, 111, 113, 140, 143, 151})),\n",
       " (frozenset({208, 209}), frozenset({8, 15, 19, 73, 246})),\n",
       " (frozenset({44,\n",
       "             45,\n",
       "             46,\n",
       "             47,\n",
       "             49,\n",
       "             50,\n",
       "             51,\n",
       "             52,\n",
       "             53,\n",
       "             54,\n",
       "             55,\n",
       "             56,\n",
       "             57,\n",
       "             58,\n",
       "             59,\n",
       "             60,\n",
       "             61,\n",
       "             62,\n",
       "             63}),\n",
       "  frozenset({2, 190, 194})),\n",
       " (frozenset({133, 134, 135, 136, 141, 142, 143, 144, 145, 146, 147, 148, 149}),\n",
       "  frozenset({3, 4, 5, 8})),\n",
       " (frozenset({506, 507, 508, 509, 510}), frozenset({58, 116, 127, 128})),\n",
       " (frozenset({44,\n",
       "             45,\n",
       "             46,\n",
       "             47,\n",
       "             48,\n",
       "             49,\n",
       "             50,\n",
       "             51,\n",
       "             52,\n",
       "             53,\n",
       "             54,\n",
       "             55,\n",
       "             56,\n",
       "             57,\n",
       "             58,\n",
       "             59,\n",
       "             60,\n",
       "             61,\n",
       "             62,\n",
       "             63,\n",
       "             64,\n",
       "             65}),\n",
       "  frozenset({2, 194})),\n",
       " (frozenset({938, 939, 940, 941, 942, 943, 944, 945, 946}),\n",
       "  frozenset({172, 174, 175})),\n",
       " (frozenset({131, 132, 207, 208, 209, 253}), frozenset({73, 246})),\n",
       " (frozenset({663, 664, 665, 666}), frozenset({101, 133})),\n",
       " (frozenset({293,\n",
       "             294,\n",
       "             295,\n",
       "             296,\n",
       "             422,\n",
       "             423,\n",
       "             424,\n",
       "             425,\n",
       "             426,\n",
       "             427,\n",
       "             428,\n",
       "             429,\n",
       "             430,\n",
       "             431,\n",
       "             432,\n",
       "             433,\n",
       "             434,\n",
       "             435,\n",
       "             436,\n",
       "             437,\n",
       "             438,\n",
       "             439}),\n",
       "  frozenset({48, 49})),\n",
       " (frozenset({131, 132, 133, 134, 135, 136}), frozenset({3, 5, 8, 17})),\n",
       " (frozenset({287, 288, 289, 290, 291, 292, 293, 294, 295, 296}),\n",
       "  frozenset({18, 50})),\n",
       " (frozenset({166, 167, 168, 771, 772}), frozenset({137, 138})),\n",
       " (frozenset({1242, 1243, 1244, 1245, 1246, 1247}), frozenset({233, 234})),\n",
       " (frozenset({1028,\n",
       "             1029,\n",
       "             1030,\n",
       "             1031,\n",
       "             1032,\n",
       "             1033,\n",
       "             1034,\n",
       "             1035,\n",
       "             1036,\n",
       "             1037,\n",
       "             1038,\n",
       "             1039,\n",
       "             1040,\n",
       "             1041,\n",
       "             1042,\n",
       "             1043,\n",
       "             1044,\n",
       "             1045,\n",
       "             1046}),\n",
       "  frozenset({196, 197})),\n",
       " (frozenset({191, 192, 193, 194, 195, 196, 197, 198, 199, 200, 201}),\n",
       "  frozenset({7, 46})),\n",
       " (frozenset({296,\n",
       "             423,\n",
       "             424,\n",
       "             425,\n",
       "             426,\n",
       "             427,\n",
       "             428,\n",
       "             429,\n",
       "             430,\n",
       "             431,\n",
       "             432,\n",
       "             446,\n",
       "             624,\n",
       "             625,\n",
       "             626,\n",
       "             627,\n",
       "             632}),\n",
       "  frozenset({94, 114})),\n",
       " (frozenset({112, 113, 114, 115, 116, 117, 118, 119, 120, 121, 122}),\n",
       "  frozenset({2, 254, 286, 287})),\n",
       " (frozenset({388, 389, 390, 391}), frozenset({35, 36, 160, 167})),\n",
       " (frozenset({279, 280, 281, 282, 283, 284}), frozenset({17, 143})),\n",
       " (frozenset({1228, 1229}), frozenset({232, 237})),\n",
       " (frozenset({569, 570, 571, 572}), frozenset({79, 80, 88})),\n",
       " (frozenset({131,\n",
       "             132,\n",
       "             133,\n",
       "             134,\n",
       "             135,\n",
       "             136,\n",
       "             141,\n",
       "             142,\n",
       "             143,\n",
       "             144,\n",
       "             145,\n",
       "             146,\n",
       "             147,\n",
       "             148,\n",
       "             149,\n",
       "             150}),\n",
       "  frozenset({3, 8})),\n",
       " (frozenset({131, 132, 207, 208, 209}), frozenset({8, 73, 246})),\n",
       " (frozenset({735, 736, 737, 738, 739}), frozenset({126, 282, 289})),\n",
       " (frozenset({435, 436, 437, 438, 439, 512, 513, 514, 515}),\n",
       "  frozenset({59, 80, 81})),\n",
       " (frozenset({971, 972, 973, 974, 975, 976, 977, 978, 979}),\n",
       "  frozenset({179, 228, 230})),\n",
       " (frozenset({48,\n",
       "             510,\n",
       "             546,\n",
       "             547,\n",
       "             548,\n",
       "             549,\n",
       "             551,\n",
       "             1016,\n",
       "             1017,\n",
       "             1018,\n",
       "             1019,\n",
       "             1020,\n",
       "             1021,\n",
       "             1022,\n",
       "             1023}),\n",
       "  frozenset({189, 191})),\n",
       " (frozenset({1339, 1340, 1341, 1342}), frozenset({251, 264})),\n",
       " (frozenset({293, 294, 295, 296}), frozenset({18, 48, 49, 50})),\n",
       " (frozenset({423, 424, 425, 426, 427, 428, 429, 430, 431, 432}),\n",
       "  frozenset({48, 49, 94, 114, 275})),\n",
       " (frozenset({919,\n",
       "             920,\n",
       "             921,\n",
       "             922,\n",
       "             923,\n",
       "             924,\n",
       "             925,\n",
       "             926,\n",
       "             927,\n",
       "             928,\n",
       "             929,\n",
       "             938,\n",
       "             939,\n",
       "             940,\n",
       "             941,\n",
       "             942,\n",
       "             943,\n",
       "             944,\n",
       "             945,\n",
       "             946}),\n",
       "  frozenset({172, 174})),\n",
       " (frozenset({112, 113, 118, 119, 120, 121, 122}),\n",
       "  frozenset({2, 104, 254, 286, 287})),\n",
       " (frozenset({96,\n",
       "             97,\n",
       "             98,\n",
       "             99,\n",
       "             100,\n",
       "             101,\n",
       "             102,\n",
       "             103,\n",
       "             104,\n",
       "             105,\n",
       "             106,\n",
       "             107,\n",
       "             108,\n",
       "             109,\n",
       "             110,\n",
       "             111}),\n",
       "  frozenset({2, 250, 287})),\n",
       " (frozenset({66, 67, 68, 69, 70, 71, 72, 73, 74, 75, 106}),\n",
       "  frozenset({2, 211})),\n",
       " (frozenset({516, 517}), frozenset({60, 135})),\n",
       " (frozenset({493, 525, 526}), frozenset({62, 140, 141, 142})),\n",
       " (frozenset({624,\n",
       "             625,\n",
       "             626,\n",
       "             627,\n",
       "             1006,\n",
       "             1007,\n",
       "             1008,\n",
       "             1009,\n",
       "             1010,\n",
       "             1011,\n",
       "             1012,\n",
       "             1013,\n",
       "             1014}),\n",
       "  frozenset({187, 188, 219})),\n",
       " (frozenset({64,\n",
       "             65,\n",
       "             871,\n",
       "             872,\n",
       "             873,\n",
       "             874,\n",
       "             875,\n",
       "             876,\n",
       "             877,\n",
       "             878,\n",
       "             881,\n",
       "             882,\n",
       "             883,\n",
       "             884,\n",
       "             885,\n",
       "             886,\n",
       "             887,\n",
       "             888,\n",
       "             889,\n",
       "             890,\n",
       "             891,\n",
       "             892}),\n",
       "  frozenset({166, 168})),\n",
       " (frozenset({259, 260, 261, 262, 263}), frozenset({15, 19, 72})),\n",
       " (frozenset({279, 280, 281}), frozenset({17, 42, 87, 100, 143})),\n",
       " (frozenset({296, 423, 424, 425, 426, 427, 428, 429, 430, 431, 432, 446}),\n",
       "  frozenset({49, 94, 114})),\n",
       " (frozenset({569,\n",
       "             570,\n",
       "             571,\n",
       "             572,\n",
       "             578,\n",
       "             579,\n",
       "             580,\n",
       "             581,\n",
       "             582,\n",
       "             583,\n",
       "             584,\n",
       "             585,\n",
       "             586,\n",
       "             587,\n",
       "             588}),\n",
       "  frozenset({80, 88})),\n",
       " (frozenset({271,\n",
       "             272,\n",
       "             273,\n",
       "             274,\n",
       "             275,\n",
       "             423,\n",
       "             424,\n",
       "             425,\n",
       "             426,\n",
       "             427,\n",
       "             428,\n",
       "             429,\n",
       "             430,\n",
       "             431,\n",
       "             432}),\n",
       "  frozenset({49, 275})),\n",
       " (frozenset({609, 610}), frozenset({90, 130})),\n",
       " (frozenset({624, 625, 626, 627, 735, 736, 737, 738, 739}),\n",
       "  frozenset({282, 289})),\n",
       " (frozenset({1144, 1145, 1146, 1147, 1150, 1151}), frozenset({214, 216})),\n",
       " (frozenset({390, 391}), frozenset({35, 36, 160, 162, 167})),\n",
       " (frozenset({783, 784, 785, 786, 787, 788, 789, 790, 791, 792}),\n",
       "  frozenset({146, 278, 279, 280})),\n",
       " (frozenset({854, 855}), frozenset({163, 167})),\n",
       " (frozenset({506, 507, 508, 509, 510, 511}), frozenset({58, 116})),\n",
       " (frozenset({435,\n",
       "             436,\n",
       "             437,\n",
       "             438,\n",
       "             439,\n",
       "             512,\n",
       "             513,\n",
       "             514,\n",
       "             515,\n",
       "             573,\n",
       "             574,\n",
       "             575,\n",
       "             576,\n",
       "             577,\n",
       "             578,\n",
       "             579}),\n",
       "  frozenset({80, 81})),\n",
       " (frozenset({364, 365, 366, 367, 368, 369, 370, 371}), frozenset({33, 49})),\n",
       " (frozenset({287, 288, 289, 290, 291, 292, 297}), frozenset({18, 110})),\n",
       " (frozenset({682, 683, 684, 685}), frozenset({107, 146, 280})),\n",
       " (frozenset({48,\n",
       "             49,\n",
       "             50,\n",
       "             51,\n",
       "             510,\n",
       "             546,\n",
       "             547,\n",
       "             548,\n",
       "             549,\n",
       "             551,\n",
       "             818,\n",
       "             819,\n",
       "             820,\n",
       "             1015,\n",
       "             1016,\n",
       "             1017,\n",
       "             1020,\n",
       "             1021,\n",
       "             1022,\n",
       "             1023}),\n",
       "  frozenset({189, 195})),\n",
       " (frozenset({37, 38, 39, 40}), frozenset({1, 11, 14, 72})),\n",
       " (frozenset({980, 981, 982, 983, 984, 985, 986, 987}),\n",
       "  frozenset({179, 230, 241})),\n",
       " (frozenset({25, 26, 27, 256, 996, 997, 998, 999, 1000, 1001, 1002, 1003}),\n",
       "  frozenset({184, 185})),\n",
       " (frozenset({131, 132, 133, 134, 135, 136, 150}), frozenset({3, 8, 17})),\n",
       " (frozenset({818, 819, 820}), frozenset({161, 167, 189, 195})),\n",
       " (frozenset({980, 981, 982, 983, 984, 985, 986}),\n",
       "  frozenset({179, 230, 240, 241})),\n",
       " (frozenset({48, 49, 50, 51}), frozenset({2, 189, 194, 195})),\n",
       " (frozenset({5, 6, 7, 8, 9, 10}), frozenset({0, 37, 38, 39, 40})),\n",
       " (frozenset({305, 306}), frozenset({24, 94, 129})),\n",
       " (frozenset({390, 391, 830, 831, 832, 833, 834, 835}), frozenset({162, 167})),\n",
       " (frozenset({624, 625, 626, 627}),\n",
       "  frozenset({94,\n",
       "             95,\n",
       "             111,\n",
       "             112,\n",
       "             113,\n",
       "             114,\n",
       "             187,\n",
       "             188,\n",
       "             219,\n",
       "             248,\n",
       "             262,\n",
       "             263,\n",
       "             264,\n",
       "             265,\n",
       "             282,\n",
       "             288,\n",
       "             289})),\n",
       " (frozenset({1, 2, 3, 4, 5, 6, 7, 8, 9, 10}), frozenset({0, 39, 40})),\n",
       " (frozenset({594, 595, 596, 597, 598, 599, 600, 601, 602, 603, 604, 605, 606}),\n",
       "  frozenset({86, 124})),\n",
       " (frozenset({242, 243, 244, 245, 246}), frozenset({11, 12, 14, 35, 36, 72})),\n",
       " (frozenset({203, 204, 205, 206, 208, 209}), frozenset({8, 15, 19})),\n",
       " (frozenset({117, 118, 119, 120, 121, 122, 123, 124}),\n",
       "  frozenset({2, 249, 286, 287})),\n",
       " (frozenset({999, 1000}), frozenset({184, 185, 203, 224})),\n",
       " (frozenset({546, 547, 548, 549}),\n",
       "  frozenset({73, 133, 189, 191, 193, 195, 267, 285})),\n",
       " (frozenset({48,\n",
       "             510,\n",
       "             546,\n",
       "             547,\n",
       "             548,\n",
       "             549,\n",
       "             551,\n",
       "             1016,\n",
       "             1017,\n",
       "             1020,\n",
       "             1021,\n",
       "             1022,\n",
       "             1023}),\n",
       "  frozenset({189, 191, 195})),\n",
       " (frozenset({166, 167, 168}), frozenset({6, 10, 137, 138})),\n",
       " (frozenset({861, 862}), frozenset({164, 165, 167})),\n",
       " (frozenset({996, 997, 998}), frozenset({184, 185, 186})),\n",
       " (frozenset({125, 126, 127, 128, 129, 130}), frozenset({2, 144})),\n",
       " (frozenset({112, 113}), frozenset({2, 104, 254, 266, 286, 287})),\n",
       " (frozenset({1060, 1061, 1062, 1063, 1064, 1065, 1066, 1067}),\n",
       "  frozenset({201, 202})),\n",
       " (frozenset({25, 26, 27}), frozenset({0, 184, 185, 252, 285})),\n",
       " (frozenset({25, 26, 27, 28, 29, 30, 31, 32, 33, 34}),\n",
       "  frozenset({0, 252, 285})),\n",
       " (frozenset({48, 551}), frozenset({74, 189, 191, 195})),\n",
       " (frozenset({971,\n",
       "             972,\n",
       "             973,\n",
       "             974,\n",
       "             975,\n",
       "             976,\n",
       "             977,\n",
       "             978,\n",
       "             979,\n",
       "             980,\n",
       "             981,\n",
       "             982,\n",
       "             983,\n",
       "             984,\n",
       "             985,\n",
       "             986,\n",
       "             987,\n",
       "             988,\n",
       "             989,\n",
       "             990}),\n",
       "  frozenset({179, 230})),\n",
       " (frozenset({838, 839, 840, 841, 842}), frozenset({163, 278, 280})),\n",
       " (frozenset({1020, 1021, 1022, 1023}), frozenset({189, 191, 195, 257, 260})),\n",
       " (frozenset({287, 288, 289, 290, 291}), frozenset({18, 50, 110, 114, 159})),\n",
       " (frozenset({996, 997, 998, 1004, 1005}), frozenset({185, 186})),\n",
       " (frozenset({573, 574, 575, 576, 577, 578, 579}), frozenset({80, 81, 82})),\n",
       " (frozenset({287, 288, 289, 290, 291, 292}), frozenset({18, 50, 110, 159})),\n",
       " (frozenset({798, 799, 800, 801, 804, 805}), frozenset({152, 153, 154})),\n",
       " (frozenset({49, 1015}), frozenset({189, 190, 192, 193, 195})),\n",
       " (frozenset({35, 36, 37, 38, 39, 40}), frozenset({1, 11}))}"
      ]
     },
     "execution_count": 3,
     "metadata": {},
     "output_type": "execute_result"
    }
   ],
   "source": [
    "file = open('generated/bicliques_all/bpse.bm', 'rb')\n",
    "bb = pickle.load(file)\n",
    "bb"
   ]
  },
  {
   "cell_type": "code",
   "execution_count": 17,
   "metadata": {},
   "outputs": [
    {
     "data": {
      "text/plain": [
       "<matplotlib.collections.PathCollection at 0x7f6c9a062588>"
      ]
     },
     "execution_count": 17,
     "metadata": {},
     "output_type": "execute_result"
    },
    {
     "data": {
      "image/png": "[encoded data removed]",
      "text/plain": [
       "<Figure size 432x288 with 1 Axes>"
      ]
     },
     "metadata": {
      "needs_background": "light"
     },
     "output_type": "display_data"
    }
   ],
   "source": [
    "x = [202,20235,7811]\n",
    "y = [0.81,789,242]\n",
    "\n",
    "plt.scatter(x,y)"
   ]
  },
  {
   "cell_type": "markdown",
   "metadata": {},
   "source": [
    "# Compare degree distribution"
   ]
  },
  {
   "cell_type": "code",
   "execution_count": 4,
   "metadata": {},
   "outputs": [],
   "source": [
    "def compare_degree_dist(graph,strategy,max_bicliques = None ,setnames=[\"top\",\"bottom\"]):\n",
    "    \n",
    "    # get graphs\n",
    "    graph_rd = BipartiteGraph.configuration_model(graph = graph)\n",
    "    graph_tri,_ = graph.tripartite_model(strategy=strategy, max_bicliques = max_bicliques)\n",
    "#     graph_tri = \n",
    "    \n",
    "    \n",
    "    def compare_by_set(setname):\n",
    "        \n",
    "        # ----------\n",
    "        # variable\n",
    "        degrees_all = graph.get_all_degrees(graph.__dict__.get(setname))\n",
    "        distribution = Counter(degrees_all.values()) # return a dict (degree:count)\n",
    "\n",
    "        degrees_all_rd = graph_rd.get_all_degrees(graph_rd.__dict__.get(setname))\n",
    "        distribution_rd = Counter(degrees_all_rd.values()) # return a dict (degree:count)\n",
    "\n",
    "        degrees_all_tri = graph_tri.get_all_degrees(graph_tri.__dict__.get(setname))\n",
    "        distribution_tri = Counter(degrees_all_tri.values()) # return a dict (degree:count)\n",
    "\n",
    "        #-----------\n",
    "        #plotting\n",
    "        df_distribution = pd.DataFrame.from_dict(distribution, orient='index').reset_index()\n",
    "        df_distribution.rename(columns={'index':'degree',0:'count'}, inplace=True)\n",
    "        df_distribution.sort_values(by=\"degree\",ascending=1, inplace=True) # sort the degree by ascending order\n",
    "\n",
    "        df_distribution_rd = pd.DataFrame.from_dict(distribution_rd, orient='index').reset_index()\n",
    "        df_distribution_rd.rename(columns={'index':'degree',0:'count_rd'}, inplace=True)\n",
    "        df_distribution_rd.sort_values(by=\"degree\",ascending=1, inplace=True) # sort the degree by ascending order\n",
    "\n",
    "        df_distribution_tri = pd.DataFrame.from_dict(distribution_tri, orient='index').reset_index()\n",
    "        df_distribution_tri.rename(columns={'index':'degree',0:'count_tri'},inplace=True)\n",
    "        df_distribution_tri.sort_values(by=\"degree\",ascending=1, inplace=True) # sort the degree by ascending order\n",
    "\n",
    "\n",
    "\n",
    "        ax = df_distribution.plot(color = \"yellow\",x=\"degree\", y=\"count\", title=\"Degree distribution \"+setname+\" (\"+strategy.upper()+\")\", rot=0,logx=True, logy=True)\n",
    "        df_distribution_rd.plot(color = \"green\",ax=ax, x=\"degree\", y=\"count_rd\")\n",
    "        df_distribution_tri.plot(color = \"red\",ax=ax, x=\"degree\", y=\"count_tri\")\n",
    "\n",
    "    for setname in setnames:\n",
    "        compare_by_set(setname)\n",
    "\n",
    "    # plt.locator_params(axis='ax', nbins=6)\n",
    "    # ylim=(0,100)\n",
    "    #ylim=(0,100),xlim=(0,10000)\n"
   ]
  },
  {
   "cell_type": "code",
   "execution_count": 46,
   "metadata": {
    "scrolled": false
   },
   "outputs": [
    {
     "name": "stdout",
     "output_type": "stream",
     "text": [
      "3051 / 3071\n",
      "541 / 542\n",
      "273 / 275\n",
      "1563 / 1568\n",
      "3049 / 3071\n",
      "627 / 627\n",
      "265 / 265\n",
      "1424 / 1429\n",
      "3050 / 3071\n",
      "569 / 571\n",
      "274 / 274\n",
      "1485 / 1488\n",
      "3044 / 3071\n",
      "591 / 591\n",
      "288 / 288\n",
      "1368 / 1375\n"
     ]
    },
    {
     "data": {
      "image/png": "[encoded data removed]",
      "text/plain": [
       "<Figure size 432x288 with 1 Axes>"
      ]
     },
     "metadata": {
      "needs_background": "light"
     },
     "output_type": "display_data"
    },
    {
     "data": {
      "image/png": "[encoded data removed]",
      "text/plain": [
       "<Figure size 432x288 with 1 Axes>"
      ]
     },
     "metadata": {
      "needs_background": "light"
     },
     "output_type": "display_data"
    },
    {
     "data": {
      "image/png": "[encoded data removed]",
      "text/plain": [
       "<Figure size 432x288 with 1 Axes>"
      ]
     },
     "metadata": {
      "needs_background": "light"
     },
     "output_type": "display_data"
    },
    {
     "data": {
      "image/png": "[encoded data removed]",
      "text/plain": [
       "<Figure size 432x288 with 1 Axes>"
      ]
     },
     "metadata": {
      "needs_background": "light"
     },
     "output_type": "display_data"
    },
    {
     "data": {
      "image/png": "[encoded data removed]",
      "text/plain": [
       "<Figure size 432x288 with 1 Axes>"
      ]
     },
     "metadata": {
      "needs_background": "light"
     },
     "output_type": "display_data"
    },
    {
     "data": {
      "image/png": "[encoded data removed]",
      "text/plain": [
       "<Figure size 432x288 with 1 Axes>"
      ]
     },
     "metadata": {
      "needs_background": "light"
     },
     "output_type": "display_data"
    },
    {
     "data": {
      "image/png": "[encoded data removed]",
      "text/plain": [
       "<Figure size 432x288 with 1 Axes>"
      ]
     },
     "metadata": {
      "needs_background": "light"
     },
     "output_type": "display_data"
    },
    {
     "data": {
      "image/png": "[encoded data removed]",
      "text/plain": [
       "<Figure size 432x288 with 1 Axes>"
      ]
     },
     "metadata": {
      "needs_background": "light"
     },
     "output_type": "display_data"
    }
   ],
   "source": [
    "compare_degree_dist(bpse,\"random\",max_bicliques = bpse_mb)\n",
    "compare_degree_dist(bpse,\"maxnodes\",max_bicliques = bpse_mb)\n",
    "compare_degree_dist(bpse,\"maxtop\",max_bicliques = bpse_mb)\n",
    "compare_degree_dist(bpse,\"maxbottom\",max_bicliques = bpse_mb)\n"
   ]
  },
  {
   "cell_type": "code",
   "execution_count": 14,
   "metadata": {},
   "outputs": [
    {
     "ename": "ValueError",
     "evalue": "peek of closed file",
     "output_type": "error",
     "traceback": [
      "\u001b[0;31m---------------------------------------------------------------------------\u001b[0m",
      "\u001b[0;31mValueError\u001b[0m                                Traceback (most recent call last)",
      "\u001b[0;32m<ipython-input-14-1093109d4106>\u001b[0m in \u001b[0;36m<module>\u001b[0;34m\u001b[0m\n\u001b[1;32m      1\u001b[0m \u001b[0;31m##### file = open('generated/bicliques_all/hepB.bm', 'rb')\u001b[0m\u001b[0;34m\u001b[0m\u001b[0;34m\u001b[0m\u001b[0;34m\u001b[0m\u001b[0m\n\u001b[0;32m----> 2\u001b[0;31m \u001b[0mmaxbicliques\u001b[0m \u001b[0;34m=\u001b[0m \u001b[0mpickle\u001b[0m\u001b[0;34m.\u001b[0m\u001b[0mload\u001b[0m\u001b[0;34m(\u001b[0m\u001b[0mfile\u001b[0m\u001b[0;34m)\u001b[0m\u001b[0;34m\u001b[0m\u001b[0;34m\u001b[0m\u001b[0m\n\u001b[0m\u001b[1;32m      3\u001b[0m \u001b[0mmaxbicliques\u001b[0m\u001b[0;34m\u001b[0m\u001b[0;34m\u001b[0m\u001b[0m\n\u001b[1;32m      4\u001b[0m \u001b[0mcompare_degree_dist\u001b[0m\u001b[0;34m(\u001b[0m\u001b[0mhepB\u001b[0m\u001b[0;34m,\u001b[0m \u001b[0;34m\"maxnodes\"\u001b[0m\u001b[0;34m,\u001b[0m\u001b[0mmax_bicliques\u001b[0m \u001b[0;34m=\u001b[0m \u001b[0mmaxbicliques\u001b[0m\u001b[0;34m)\u001b[0m\u001b[0;34m\u001b[0m\u001b[0;34m\u001b[0m\u001b[0m\n",
      "\u001b[0;31mValueError\u001b[0m: peek of closed file"
     ]
    }
   ],
   "source": [
    "##### file = open('generated/bicliques_all/hepB.bm', 'rb')\n",
    "maxbicliques = pickle.load(file)\n",
    "maxbicliques\n",
    "compare_degree_dist(hepB, \"maxnodes\",max_bicliques = maxbicliques)"
   ]
  },
  {
   "cell_type": "markdown",
   "metadata": {},
   "source": [
    "# Create dataframe with local data"
   ]
  },
  {
   "cell_type": "code",
   "execution_count": 7,
   "metadata": {},
   "outputs": [
    {
     "name": "stdout",
     "output_type": "stream",
     "text": [
      "1744 / 1746\n"
     ]
    }
   ],
   "source": [
    "graph = norway\n",
    "graph_cm = graph.configuration_model(graph = graph)"
   ]
  },
  {
   "cell_type": "code",
   "execution_count": 8,
   "metadata": {},
   "outputs": [
    {
     "name": "stdout",
     "output_type": "stream",
     "text": [
      "OK\n",
      "59 / 59\n",
      "71 / 71\n",
      "1597 / 1598\n"
     ]
    }
   ],
   "source": [
    "graph_tri, bicliques_selected = graph.tripartite_model(strategy = \"random\", max_bicliques = norway_mb) # CHANGE MAX BICLIQUE"
   ]
  },
  {
   "cell_type": "code",
   "execution_count": 9,
   "metadata": {},
   "outputs": [],
   "source": [
    "def get_local_feature(feature_function, set1, copy = False):\n",
    "    \"\"\"\n",
    "    Returns a dictionary with vertices id as keys, and degrees as values.\n",
    "\n",
    "    \"\"\"\n",
    "    if copy:\n",
    "        set1_to_iterate = deepcopy(set1)\n",
    "    else:\n",
    "        set1_to_iterate = set1\n",
    "\n",
    "    a = dict()\n",
    "    for key,value in set1_to_iterate.items():\n",
    "        a[key] = feature_function(key,set1)\n",
    "\n",
    "        \n",
    "\n",
    "    print(\"LEN A\",len(a.keys()))\n",
    "    print(\"LEN SET\",len(set1.keys()))\n",
    "    return a"
   ]
  },
  {
   "cell_type": "code",
   "execution_count": 10,
   "metadata": {},
   "outputs": [
    {
     "name": "stdout",
     "output_type": "stream",
     "text": [
      "COUNT 355\n"
     ]
    }
   ],
   "source": [
    "# Compute redundancy for a set of the graph\n",
    "# For redundancy, because we delete a key and then re-add it, we must iterate over a COPY !\n",
    "\n",
    "graph_cm_deepcopy = deepcopy(graph_cm)\n",
    "count = 0\n",
    "for key,value in graph_cm_deepcopy.top.items():\n",
    "    graph_cm.get_redundancy(key,graph_cm.top)\n",
    "    count = count+1\n",
    "#     print(count)\n",
    "\n",
    "print(\"COUNT\",count)"
   ]
  },
  {
   "cell_type": "code",
   "execution_count": 11,
   "metadata": {},
   "outputs": [],
   "source": [
    "def all_local_features(graph, set1):\n",
    "    all_degrees_set1 = graph.get_all_degrees(set1)\n",
    "    cc_bullet_set1   = get_local_feature(graph.cc_bullet, set1)\n",
    "    redundancy_set1  = get_local_feature(graph.get_redundancy, set1,True)\n",
    "\n",
    "    # df = pd.DataFrame.from_dict(all_degrees, orient='index')\n",
    "\n",
    "    graph_features_set1 = defaultdict(list)    \n",
    "\n",
    "#     for k in set1:\n",
    "#         graph_features_set1[k].extend([all_degrees_set1.get(k), cc_bullet_set1.get(k),redundancy_set1.get(k)[0]])\n",
    "    \n",
    "    print(\"SAME KEYS ?\",all_degrees_set1.keys() == set1.keys())\n",
    "    print(\"SAME KEYS ?\",cc_bullet_set1.keys() == set1.keys())\n",
    "    print(\"SAME KEYS ?\",redundancy_set1.keys() == set1.keys())\n",
    "    for k in set1:\n",
    "        graph_features_set1[k].append(all_degrees_set1[k])\n",
    "        graph_features_set1[k].append(cc_bullet_set1[k])\n",
    "#         print(\"VALUE\", redundancy_set1[k] )#redundancy_set1.get(k))\n",
    "        test = redundancy_set1[k]\n",
    "#         print(\"LEN \", len(redundancy_set1[k]))\n",
    "#         print(\"value selected\", redundancy_set1[k][0])\n",
    "\n",
    "        graph_features_set1[k].append(redundancy_set1[k][0])\n",
    "\n",
    "    \n",
    "#     print(\"OK\")\n",
    "\n",
    "    df = pd.DataFrame.from_dict(graph_features_set1, orient='index',columns = [\"degree\",\"cc_bullet\",\"redundancy\"])\n",
    "#     df = pd.DataFrame.from_dict(graph_features_set1, orient='index',columns = [\"redundancy\"])\n",
    "\n",
    "    return df"
   ]
  },
  {
   "cell_type": "code",
   "execution_count": 12,
   "metadata": {},
   "outputs": [
    {
     "name": "stdout",
     "output_type": "stream",
     "text": [
      "LEN A 355\n",
      "LEN SET 355\n",
      "LEN A 355\n",
      "LEN SET 355\n",
      "SAME KEYS ? True\n",
      "SAME KEYS ? True\n",
      "SAME KEYS ? True\n"
     ]
    }
   ],
   "source": [
    "df_features = all_local_features(graph, graph.top)"
   ]
  },
  {
   "cell_type": "code",
   "execution_count": 13,
   "metadata": {},
   "outputs": [
    {
     "name": "stdout",
     "output_type": "stream",
     "text": [
      "LEN A 355\n",
      "LEN SET 355\n",
      "LEN A 355\n",
      "LEN SET 355\n",
      "SAME KEYS ? True\n",
      "SAME KEYS ? True\n",
      "SAME KEYS ? True\n"
     ]
    }
   ],
   "source": [
    "df_features_cm = all_local_features(graph_cm , graph_cm.top)\n"
   ]
  },
  {
   "cell_type": "code",
   "execution_count": 14,
   "metadata": {},
   "outputs": [
    {
     "name": "stdout",
     "output_type": "stream",
     "text": [
      "LEN A 355\n",
      "LEN SET 355\n",
      "LEN A 355\n",
      "LEN SET 355\n",
      "SAME KEYS ? True\n",
      "SAME KEYS ? True\n",
      "SAME KEYS ? True\n"
     ]
    }
   ],
   "source": [
    "df_features_tri = all_local_features(graph_tri, graph_tri.top)"
   ]
  },
  {
   "cell_type": "code",
   "execution_count": 15,
   "metadata": {},
   "outputs": [
    {
     "name": "stderr",
     "output_type": "stream",
     "text": [
      "/home/cecile/anaconda3/lib/python3.7/site-packages/numpy/lib/histograms.py:839: RuntimeWarning:\n",
      "\n",
      "invalid value encountered in greater_equal\n",
      "\n",
      "/home/cecile/anaconda3/lib/python3.7/site-packages/numpy/lib/histograms.py:840: RuntimeWarning:\n",
      "\n",
      "invalid value encountered in less_equal\n",
      "\n"
     ]
    },
    {
     "data": {
      "image/png": "[encoded data removed]",
      "text/plain": [
       "<Figure size 540x540 with 12 Axes>"
      ]
     },
     "metadata": {},
     "output_type": "display_data"
    }
   ],
   "source": [
    "g = sns.pairplot(df_features, palette=\"husl\")\n"
   ]
  },
  {
   "cell_type": "code",
   "execution_count": 16,
   "metadata": {},
   "outputs": [
    {
     "data": {
      "image/png": "[encoded data removed]",
      "text/plain": [
       "<Figure size 540x540 with 12 Axes>"
      ]
     },
     "metadata": {},
     "output_type": "display_data"
    }
   ],
   "source": [
    "g = sns.pairplot(df_features_cm, palette=\"husl\")\n"
   ]
  },
  {
   "cell_type": "code",
   "execution_count": 17,
   "metadata": {},
   "outputs": [
    {
     "data": {
      "image/png": "[encoded data removed]",
      "text/plain": [
       "<Figure size 540x540 with 12 Axes>"
      ]
     },
     "metadata": {},
     "output_type": "display_data"
    }
   ],
   "source": [
    "g = sns.pairplot(df_features_tri, palette=\"husl\")\n"
   ]
  },
  {
   "cell_type": "code",
   "execution_count": 18,
   "metadata": {},
   "outputs": [
    {
     "data": {
      "text/plain": [
       "<matplotlib.axes._subplots.AxesSubplot at 0x7efdcc212240>"
      ]
     },
     "execution_count": 18,
     "metadata": {},
     "output_type": "execute_result"
    },
    {
     "data": {
      "image/png": "[encoded data removed]",
      "text/plain": [
       "<Figure size 432x288 with 1 Axes>"
      ]
     },
     "metadata": {},
     "output_type": "display_data"
    }
   ],
   "source": [
    "df_features[\"redundancy\"].plot.hist()"
   ]
  },
  {
   "cell_type": "code",
   "execution_count": 19,
   "metadata": {},
   "outputs": [
    {
     "data": {
      "text/plain": [
       "13"
      ]
     },
     "execution_count": 19,
     "metadata": {},
     "output_type": "execute_result"
    }
   ],
   "source": [
    "len(df_features.loc[df_features[\"redundancy\"] == 1])"
   ]
  },
  {
   "cell_type": "code",
   "execution_count": 20,
   "metadata": {},
   "outputs": [
    {
     "data": {
      "text/plain": [
       "0"
      ]
     },
     "execution_count": 20,
     "metadata": {},
     "output_type": "execute_result"
    }
   ],
   "source": [
    "len(df_features_cm.loc[df_features_cm[\"redundancy\"] == 1])"
   ]
  },
  {
   "cell_type": "code",
   "execution_count": 216,
   "metadata": {},
   "outputs": [
    {
     "data": {
      "text/plain": [
       "1197"
      ]
     },
     "execution_count": 216,
     "metadata": {},
     "output_type": "execute_result"
    }
   ],
   "source": [
    "len(df_features_tri[df_features_tri[\"redundancy\"] == 1])"
   ]
  },
  {
   "cell_type": "code",
   "execution_count": 21,
   "metadata": {},
   "outputs": [
    {
     "name": "stdout",
     "output_type": "stream",
     "text": [
      "--- 0.29611921310424805 seconds ---\n"
     ]
    },
    {
     "data": {
      "text/html": [
       "<div>\n",
       "<style scoped>\n",
       "    .dataframe tbody tr th:only-of-type {\n",
       "        vertical-align: middle;\n",
       "    }\n",
       "\n",
       "    .dataframe tbody tr th {\n",
       "        vertical-align: top;\n",
       "    }\n",
       "\n",
       "    .dataframe thead th {\n",
       "        text-align: right;\n",
       "    }\n",
       "</style>\n",
       "<table border=\"1\" class=\"dataframe\">\n",
       "  <thead>\n",
       "    <tr style=\"text-align: right;\">\n",
       "      <th></th>\n",
       "      <th>value</th>\n",
       "    </tr>\n",
       "  </thead>\n",
       "  <tbody>\n",
       "    <tr>\n",
       "      <th>nb_vertices</th>\n",
       "      <td>355</td>\n",
       "    </tr>\n",
       "    <tr>\n",
       "      <th>nb_edges</th>\n",
       "      <td>1746</td>\n",
       "    </tr>\n",
       "    <tr>\n",
       "      <th>density</th>\n",
       "      <td>0.00346116</td>\n",
       "    </tr>\n",
       "    <tr>\n",
       "      <th>nb_connected_components</th>\n",
       "      <td>111</td>\n",
       "    </tr>\n",
       "    <tr>\n",
       "      <th>degree_avg</th>\n",
       "      <td>4.91831</td>\n",
       "    </tr>\n",
       "    <tr>\n",
       "      <th>degree_sum</th>\n",
       "      <td>1746</td>\n",
       "    </tr>\n",
       "    <tr>\n",
       "      <th>degree_min</th>\n",
       "      <td>2</td>\n",
       "    </tr>\n",
       "    <tr>\n",
       "      <th>degree_max</th>\n",
       "      <td>12</td>\n",
       "    </tr>\n",
       "  </tbody>\n",
       "</table>\n",
       "</div>"
      ],
      "text/plain": [
       "                              value\n",
       "nb_vertices                     355\n",
       "nb_edges                       1746\n",
       "density                  0.00346116\n",
       "nb_connected_components         111\n",
       "degree_avg                  4.91831\n",
       "degree_sum                     1746\n",
       "degree_min                        2\n",
       "degree_max                       12"
      ]
     },
     "execution_count": 21,
     "metadata": {},
     "output_type": "execute_result"
    },
    {
     "data": {
      "image/png": "[encoded data removed]",
      "text/plain": [
       "<Figure size 432x288 with 1 Axes>"
      ]
     },
     "metadata": {},
     "output_type": "display_data"
    }
   ],
   "source": [
    "graph.analyze(graph.top)"
   ]
  },
  {
   "cell_type": "code",
   "execution_count": 22,
   "metadata": {},
   "outputs": [
    {
     "name": "stdout",
     "output_type": "stream",
     "text": [
      "--- 0.0784912109375 seconds ---\n"
     ]
    },
    {
     "data": {
      "text/html": [
       "<div>\n",
       "<style scoped>\n",
       "    .dataframe tbody tr th:only-of-type {\n",
       "        vertical-align: middle;\n",
       "    }\n",
       "\n",
       "    .dataframe tbody tr th {\n",
       "        vertical-align: top;\n",
       "    }\n",
       "\n",
       "    .dataframe thead th {\n",
       "        text-align: right;\n",
       "    }\n",
       "</style>\n",
       "<table border=\"1\" class=\"dataframe\">\n",
       "  <thead>\n",
       "    <tr style=\"text-align: right;\">\n",
       "      <th></th>\n",
       "      <th>value</th>\n",
       "    </tr>\n",
       "  </thead>\n",
       "  <tbody>\n",
       "    <tr>\n",
       "      <th>nb_vertices</th>\n",
       "      <td>355</td>\n",
       "    </tr>\n",
       "    <tr>\n",
       "      <th>nb_edges</th>\n",
       "      <td>1744</td>\n",
       "    </tr>\n",
       "    <tr>\n",
       "      <th>density</th>\n",
       "      <td>0.0034572</td>\n",
       "    </tr>\n",
       "    <tr>\n",
       "      <th>nb_connected_components</th>\n",
       "      <td>75</td>\n",
       "    </tr>\n",
       "    <tr>\n",
       "      <th>degree_avg</th>\n",
       "      <td>4.91268</td>\n",
       "    </tr>\n",
       "    <tr>\n",
       "      <th>degree_sum</th>\n",
       "      <td>1744</td>\n",
       "    </tr>\n",
       "    <tr>\n",
       "      <th>degree_min</th>\n",
       "      <td>2</td>\n",
       "    </tr>\n",
       "    <tr>\n",
       "      <th>degree_max</th>\n",
       "      <td>12</td>\n",
       "    </tr>\n",
       "  </tbody>\n",
       "</table>\n",
       "</div>"
      ],
      "text/plain": [
       "                             value\n",
       "nb_vertices                    355\n",
       "nb_edges                      1744\n",
       "density                  0.0034572\n",
       "nb_connected_components         75\n",
       "degree_avg                 4.91268\n",
       "degree_sum                    1744\n",
       "degree_min                       2\n",
       "degree_max                      12"
      ]
     },
     "execution_count": 22,
     "metadata": {},
     "output_type": "execute_result"
    },
    {
     "data": {
      "image/png": "[encoded data removed]",
      "text/plain": [
       "<Figure size 432x288 with 1 Axes>"
      ]
     },
     "metadata": {},
     "output_type": "display_data"
    }
   ],
   "source": [
    "graph_cm.analyze(graph_cm.top)"
   ]
  },
  {
   "cell_type": "code",
   "execution_count": 23,
   "metadata": {},
   "outputs": [
    {
     "name": "stdout",
     "output_type": "stream",
     "text": [
      "--- 0.07514643669128418 seconds ---\n"
     ]
    },
    {
     "data": {
      "text/html": [
       "<div>\n",
       "<style scoped>\n",
       "    .dataframe tbody tr th:only-of-type {\n",
       "        vertical-align: middle;\n",
       "    }\n",
       "\n",
       "    .dataframe tbody tr th {\n",
       "        vertical-align: top;\n",
       "    }\n",
       "\n",
       "    .dataframe thead th {\n",
       "        text-align: right;\n",
       "    }\n",
       "</style>\n",
       "<table border=\"1\" class=\"dataframe\">\n",
       "  <thead>\n",
       "    <tr style=\"text-align: right;\">\n",
       "      <th></th>\n",
       "      <th>value</th>\n",
       "    </tr>\n",
       "  </thead>\n",
       "  <tbody>\n",
       "    <tr>\n",
       "      <th>nb_vertices</th>\n",
       "      <td>355</td>\n",
       "    </tr>\n",
       "    <tr>\n",
       "      <th>nb_edges</th>\n",
       "      <td>1745</td>\n",
       "    </tr>\n",
       "    <tr>\n",
       "      <th>density</th>\n",
       "      <td>0.00345918</td>\n",
       "    </tr>\n",
       "    <tr>\n",
       "      <th>nb_connected_components</th>\n",
       "      <td>99</td>\n",
       "    </tr>\n",
       "    <tr>\n",
       "      <th>degree_avg</th>\n",
       "      <td>4.91549</td>\n",
       "    </tr>\n",
       "    <tr>\n",
       "      <th>degree_sum</th>\n",
       "      <td>1745</td>\n",
       "    </tr>\n",
       "    <tr>\n",
       "      <th>degree_min</th>\n",
       "      <td>2</td>\n",
       "    </tr>\n",
       "    <tr>\n",
       "      <th>degree_max</th>\n",
       "      <td>12</td>\n",
       "    </tr>\n",
       "  </tbody>\n",
       "</table>\n",
       "</div>"
      ],
      "text/plain": [
       "                              value\n",
       "nb_vertices                     355\n",
       "nb_edges                       1745\n",
       "density                  0.00345918\n",
       "nb_connected_components          99\n",
       "degree_avg                  4.91549\n",
       "degree_sum                     1745\n",
       "degree_min                        2\n",
       "degree_max                       12"
      ]
     },
     "execution_count": 23,
     "metadata": {},
     "output_type": "execute_result"
    },
    {
     "data": {
      "image/png": "[encoded data removed]",
      "text/plain": [
       "<Figure size 432x288 with 1 Axes>"
      ]
     },
     "metadata": {},
     "output_type": "display_data"
    }
   ],
   "source": [
    "graph_tri.analyze(graph_tri.top)"
   ]
  },
  {
   "cell_type": "code",
   "execution_count": 24,
   "metadata": {},
   "outputs": [
    {
     "data": {
      "text/plain": [
       "<matplotlib.axes._subplots.AxesSubplot at 0x7efdccab05f8>"
      ]
     },
     "execution_count": 24,
     "metadata": {},
     "output_type": "execute_result"
    },
    {
     "data": {
      "image/png": "[encoded data removed]",
      "text/plain": [
       "<Figure size 432x288 with 1 Axes>"
      ]
     },
     "metadata": {},
     "output_type": "display_data"
    }
   ],
   "source": [
    "df_features[\"cc_bullet\"].hist(cumulative=True, density=1, bins=100)"
   ]
  },
  {
   "cell_type": "code",
   "execution_count": 25,
   "metadata": {},
   "outputs": [
    {
     "data": {
      "text/plain": [
       "<matplotlib.axes._subplots.AxesSubplot at 0x7efdcca4b3c8>"
      ]
     },
     "execution_count": 25,
     "metadata": {},
     "output_type": "execute_result"
    },
    {
     "data": {
      "image/png": "[encoded data removed]",
      "text/plain": [
       "<Figure size 432x288 with 1 Axes>"
      ]
     },
     "metadata": {},
     "output_type": "display_data"
    }
   ],
   "source": [
    "df_features_cm[\"cc_bullet\"].hist(cumulative=True, density=1, bins=100)"
   ]
  },
  {
   "cell_type": "code",
   "execution_count": 26,
   "metadata": {},
   "outputs": [
    {
     "data": {
      "text/plain": [
       "<matplotlib.axes._subplots.AxesSubplot at 0x7efdcc7196a0>"
      ]
     },
     "execution_count": 26,
     "metadata": {},
     "output_type": "execute_result"
    },
    {
     "data": {
      "image/png": "[encoded data removed]",
      "text/plain": [
       "<Figure size 432x288 with 1 Axes>"
      ]
     },
     "metadata": {},
     "output_type": "display_data"
    }
   ],
   "source": [
    "df_features_tri[\"cc_bullet\"].hist(cumulative=True, density=1, bins=100)"
   ]
  },
  {
   "cell_type": "code",
   "execution_count": 42,
   "metadata": {},
   "outputs": [
    {
     "data": {
      "text/plain": [
       "[(2, 3), (2, 4), (2, 5), (3, 4), (3, 5), (4, 5)]"
      ]
     },
     "execution_count": 42,
     "metadata": {},
     "output_type": "execute_result"
    }
   ],
   "source": [
    "list(itertools.combinations([2,3,4,5],2))"
   ]
  },
  {
   "cell_type": "markdown",
   "metadata": {},
   "source": [
    "# Comparaison of 1-mode features"
   ]
  },
  {
   "cell_type": "markdown",
   "metadata": {},
   "source": [
    "# In progress"
   ]
  },
  {
   "cell_type": "code",
   "execution_count": null,
   "metadata": {},
   "outputs": [],
   "source": [
    "# def compare_degree_dist(graph,strategy,setnames=[\"top\",\"bottom\"]):\n",
    "    \n",
    "#     # get graphs\n",
    "#     graph_rd = BipartiteGraph.configuration_model(graph = graph)\n",
    "#     graph_tri,_ = graph.tripartite_model(strategy=strategy)\n",
    "    \n",
    "#     def compare_by_set(setname):\n",
    "        \n",
    "#         # ----------\n",
    "#         # variable\n",
    "#         degrees_all = graph.get_all_degrees(graph.__dict__.get(setname))\n",
    "#         distribution = Counter(degrees_all.values()) # return a dict (degree:count)\n",
    "\n",
    "#         degrees_all_rd = graph_rd.get_all_degrees(graph_rd.__dict__.get(setname))\n",
    "#         distribution_rd = Counter(degrees_all_rd.values()) # return a dict (degree:count)\n",
    "\n",
    "#         degrees_all_tri = graph_tri.get_all_degrees(graph_tri.__dict__.get(setname))\n",
    "#         distribution_tri = Counter(degrees_all_tri.values()) # return a dict (degree:count)\n",
    "\n",
    "#         #-----------\n",
    "#         #plotting\n",
    "#         df_distribution = pd.DataFrame.from_dict(distribution, orient='index').reset_index()\n",
    "#         df_distribution.rename(columns={'index':'degree',0:'count'}, inplace=True)\n",
    "#         df_distribution.sort_values(by=\"degree\",ascending=1, inplace=True) # sort the degree by ascending order\n",
    "\n",
    "#         df_distribution_rd = pd.DataFrame.from_dict(distribution_rd, orient='index').reset_index()\n",
    "#         df_distribution_rd.rename(columns={'index':'degree',0:'count_rd'}, inplace=True)\n",
    "#         df_distribution_rd.sort_values(by=\"degree\",ascending=1, inplace=True) # sort the degree by ascending order\n",
    "\n",
    "#         df_distribution_tri = pd.DataFrame.from_dict(distribution_tri, orient='index').reset_index()\n",
    "#         df_distribution_tri.rename(columns={'index':'degree',0:'count_tri'},inplace=True)\n",
    "#         df_distribution_tri.sort_values(by=\"degree\",ascending=1, inplace=True) # sort the degree by ascending order\n",
    "\n",
    "        \n",
    "#         ax = df_distribution.plot(color = \"yellow\",x=\"degree\", y=\"count\", title=\"Degree distribution \"+setname, rot=0,logx=True, logy=True)\n",
    "#         df_distribution_rd.plot(color = \"green\",ax=ax, x=\"degree\", y=\"count_rd\")\n",
    "#         df_distribution_tri.plot(color = \"red\",ax=ax, x=\"degree\", y=\"count_tri\")\n",
    "\n",
    "#     for setname in setnames:\n",
    "#         compare_by_set(setname)\n"
   ]
  },
  {
   "cell_type": "code",
   "execution_count": 30,
   "metadata": {},
   "outputs": [],
   "source": [
    "from collections import namedtuple\n",
    "\n",
    "def get_degree_correlation(real_graph):\n",
    "    \n",
    "    def get_neighbor_avg_degree(dataset):\n",
    "        degree_data = namedtuple('degree_data', ['degree','neighbor_avg_degree'])\n",
    "        degrees_top = dataset.get_all_degrees(dataset.top)\n",
    "        degrees_bottom = dataset.get_all_degrees(dataset.bottom)\n",
    "        \n",
    "        d_top = dict()\n",
    "        for k,v in degrees_top.items():\n",
    "            d_top[k] = degree_data(v, np.mean(list(map(lambda a: degrees_bottom.get(a),dataset.get_neighbors(k,dataset.top)))))\n",
    "\n",
    "        d_bottom = dict()\n",
    "        for k,v in degrees_bottom.items():\n",
    "            d_bottom[k] = degree_data(v, np.mean(list(map(lambda a: degrees_top.get(a),dataset.get_neighbors(k,dataset.bottom)))))\n",
    "\n",
    "        return d_top, d_bottom\n",
    "    \n",
    "    avg_d_top, avg_d_bottom = get_neighbor_avg_degree(real_graph)\n",
    "    return avg_d_top, avg_d_bottom"
   ]
  },
  {
   "cell_type": "code",
   "execution_count": 55,
   "metadata": {},
   "outputs": [
    {
     "ename": "AttributeError",
     "evalue": "'tuple' object has no attribute 'top'",
     "output_type": "error",
     "traceback": [
      "\u001b[0;31m---------------------------------------------------------------------------\u001b[0m",
      "\u001b[0;31mAttributeError\u001b[0m                            Traceback (most recent call last)",
      "\u001b[0;32m<ipython-input-55-70f064832424>\u001b[0m in \u001b[0;36m<module>\u001b[0;34m\u001b[0m\n\u001b[0;32m----> 1\u001b[0;31m \u001b[0mgraph_tri\u001b[0m\u001b[0;34m.\u001b[0m\u001b[0mtop\u001b[0m\u001b[0;34m\u001b[0m\u001b[0;34m\u001b[0m\u001b[0m\n\u001b[0m",
      "\u001b[0;31mAttributeError\u001b[0m: 'tuple' object has no attribute 'top'"
     ]
    }
   ],
   "source": [
    "graph_tri.top"
   ]
  },
  {
   "cell_type": "code",
   "execution_count": 152,
   "metadata": {},
   "outputs": [
    {
     "name": "stdout",
     "output_type": "stream",
     "text": [
      "121316 / 121363\n",
      "11764 / 11766\n",
      "15637 / 15639\n",
      "81565 / 81572\n"
     ]
    }
   ],
   "source": [
    "graph = hepB\n",
    "top_real, bottom_real = get_degree_correlation(graph)\n",
    "\n",
    "graph_rd = BipartiteGraph.configuration_model(graph = graph)\n",
    "top_rd, bottom_rd = get_degree_correlation(graph_rd)\n",
    "\n",
    "graph_tri,_ = graph.tripartite_model(strategy=\"maxnodes\")\n",
    "top_tri, bottom_tri = get_degree_correlation(graph_tri)\n",
    "\n",
    "# graph_tri = BipartiteGraph.read_graph(\"arxiv_top\",\"arxiv_bottom\")\n",
    "# top_tri, bottom_tri = get_degree_correlation(graph_tri)\n"
   ]
  },
  {
   "cell_type": "code",
   "execution_count": 154,
   "metadata": {},
   "outputs": [],
   "source": [
    "BipartiteGraph.save_graph(graph_tri,\"hepB_maxnodes\")"
   ]
  },
  {
   "cell_type": "code",
   "execution_count": null,
   "metadata": {},
   "outputs": [],
   "source": [
    "# "
   ]
  },
  {
   "cell_type": "code",
   "execution_count": 157,
   "metadata": {},
   "outputs": [
    {
     "data": {
      "text/plain": [
       "0.5953889153190141"
      ]
     },
     "execution_count": 157,
     "metadata": {},
     "output_type": "execute_result"
    }
   ],
   "source": [
    "graph.cc_bullet_graph()"
   ]
  },
  {
   "cell_type": "code",
   "execution_count": 158,
   "metadata": {},
   "outputs": [
    {
     "data": {
      "text/plain": [
       "0.3838611356839411"
      ]
     },
     "execution_count": 158,
     "metadata": {},
     "output_type": "execute_result"
    }
   ],
   "source": [
    "graph_rd.cc_bullet_graph()"
   ]
  },
  {
   "cell_type": "code",
   "execution_count": 159,
   "metadata": {},
   "outputs": [
    {
     "data": {
      "text/plain": [
       "0.42110644492844385"
      ]
     },
     "execution_count": 159,
     "metadata": {},
     "output_type": "execute_result"
    }
   ],
   "source": [
    "graph_tri.cc_bullet_graph()"
   ]
  },
  {
   "cell_type": "code",
   "execution_count": null,
   "metadata": {},
   "outputs": [],
   "source": []
  },
  {
   "cell_type": "code",
   "execution_count": 90,
   "metadata": {},
   "outputs": [],
   "source": [
    "# For each node, we plot it \n",
    "def plotter(to_plot_list):\n",
    "    def plotter_in(d):  \n",
    "        degrees = [x.degree for x in  d.values()]\n",
    "        avg_degree_neighbors = [x.neighbor_avg_degree for x in  d.values()]\n",
    "        ax = plt.scatter(degrees, avg_degree_neighbors,s=20)\n",
    "\n",
    "        axes = plt.gca()\n",
    "#         axes.set_xlim([0,200])\n",
    "        axes.set_yscale('log')\n",
    "        axes.set_xscale('log')\n",
    "\n",
    "    for elt in to_plot_list:\n",
    "        plotter_in(elt)\n"
   ]
  },
  {
   "cell_type": "code",
   "execution_count": 91,
   "metadata": {},
   "outputs": [
    {
     "data": {
      "image/png": "[encoded data removed]",
      "text/plain": [
       "<Figure size 432x288 with 1 Axes>"
      ]
     },
     "metadata": {
      "needs_background": "light"
     },
     "output_type": "display_data"
    }
   ],
   "source": [
    "plotter([top_real, top_rd,top_tri])"
   ]
  },
  {
   "cell_type": "code",
   "execution_count": 92,
   "metadata": {},
   "outputs": [
    {
     "data": {
      "image/png": "[encoded data removed]",
      "text/plain": [
       "<Figure size 432x288 with 1 Axes>"
      ]
     },
     "metadata": {
      "needs_background": "light"
     },
     "output_type": "display_data"
    }
   ],
   "source": [
    "plotter([bottom_real, bottom_rd,bottom_tri])"
   ]
  },
  {
   "cell_type": "code",
   "execution_count": 86,
   "metadata": {},
   "outputs": [
    {
     "data": {
      "text/plain": [
       "<matplotlib.axes._subplots.AxesSubplot at 0x7f35f16acb70>"
      ]
     },
     "execution_count": 86,
     "metadata": {},
     "output_type": "execute_result"
    },
    {
     "data": {
      "image/png": "[encoded data removed]",
      "text/plain": [
       "<Figure size 432x288 with 1 Axes>"
      ]
     },
     "metadata": {
      "needs_background": "light"
     },
     "output_type": "display_data"
    }
   ],
   "source": [
    "test =pd.DataFrame.from_dict(bottom_real, orient='index',\n",
    "                       columns=[\"degree\",\"neighbor_avg_degree\"])\n",
    "\n",
    "test2 = test.groupby([\"degree\"]).mean()\n",
    "\n",
    "\n",
    "testa =pd.DataFrame.from_dict(bottom_rd, orient='index',\n",
    "                       columns=[\"degree\",\"neighbor_avg_degree\"])\n",
    "\n",
    "testa2 = testa.groupby([\"degree\"]).mean()\n",
    "\n",
    "\n",
    "testb =pd.DataFrame.from_dict(bottom_tri, orient='index',\n",
    "                       columns=[\"degree\",\"neighbor_avg_degree\"])\n",
    "\n",
    "testb2 = testb.groupby([\"degree\"]).mean()\n",
    "\n",
    "\n",
    "\n",
    "ax = test2[\"neighbor_avg_degree\"].plot()\n",
    "testa2[\"neighbor_avg_degree\"].plot(ax = ax, color=\"green\")\n",
    "testb2[\"neighbor_avg_degree\"].plot(ax = ax,color = \"red\")\n"
   ]
  },
  {
   "cell_type": "code",
   "execution_count": null,
   "metadata": {},
   "outputs": [],
   "source": []
  },
  {
   "cell_type": "code",
   "execution_count": 49,
   "metadata": {},
   "outputs": [
    {
     "ename": "NameError",
     "evalue": "name 'linux_rd' is not defined",
     "output_type": "error",
     "traceback": [
      "\u001b[0;31m---------------------------------------------------------------------------\u001b[0m",
      "\u001b[0;31mNameError\u001b[0m                                 Traceback (most recent call last)",
      "\u001b[0;32m<ipython-input-49-c494cccc4918>\u001b[0m in \u001b[0;36m<module>\u001b[0;34m\u001b[0m\n\u001b[0;32m----> 1\u001b[0;31m \u001b[0mdataset\u001b[0m \u001b[0;34m=\u001b[0m \u001b[0mlinux_rd\u001b[0m\u001b[0;34m\u001b[0m\u001b[0;34m\u001b[0m\u001b[0m\n\u001b[0m\u001b[1;32m      2\u001b[0m \u001b[0mdegrees_top\u001b[0m \u001b[0;34m=\u001b[0m \u001b[0mdataset\u001b[0m\u001b[0;34m.\u001b[0m\u001b[0mget_all_degrees\u001b[0m\u001b[0;34m(\u001b[0m\u001b[0mdataset\u001b[0m\u001b[0;34m.\u001b[0m\u001b[0mtop\u001b[0m\u001b[0;34m)\u001b[0m\u001b[0;34m\u001b[0m\u001b[0;34m\u001b[0m\u001b[0m\n\u001b[1;32m      3\u001b[0m \u001b[0mdegrees_bottom\u001b[0m \u001b[0;34m=\u001b[0m \u001b[0mdataset\u001b[0m\u001b[0;34m.\u001b[0m\u001b[0mget_all_degrees\u001b[0m\u001b[0;34m(\u001b[0m\u001b[0mdataset\u001b[0m\u001b[0;34m.\u001b[0m\u001b[0mbottom\u001b[0m\u001b[0;34m)\u001b[0m\u001b[0;34m\u001b[0m\u001b[0;34m\u001b[0m\u001b[0m\n",
      "\u001b[0;31mNameError\u001b[0m: name 'linux_rd' is not defined"
     ]
    }
   ],
   "source": [
    "dataset = linux_rd\n",
    "degrees_top = dataset.get_all_degrees(dataset.top)\n",
    "degrees_bottom = dataset.get_all_degrees(dataset.bottom)"
   ]
  },
  {
   "cell_type": "code",
   "execution_count": 50,
   "metadata": {},
   "outputs": [
    {
     "ename": "NameError",
     "evalue": "name 'degrees_top' is not defined",
     "output_type": "error",
     "traceback": [
      "\u001b[0;31m---------------------------------------------------------------------------\u001b[0m",
      "\u001b[0;31mNameError\u001b[0m                                 Traceback (most recent call last)",
      "\u001b[0;32m<ipython-input-50-227196c7be5e>\u001b[0m in \u001b[0;36m<module>\u001b[0;34m\u001b[0m\n\u001b[1;32m      1\u001b[0m \u001b[0md_top\u001b[0m \u001b[0;34m=\u001b[0m \u001b[0mdict\u001b[0m\u001b[0;34m(\u001b[0m\u001b[0;34m)\u001b[0m\u001b[0;34m\u001b[0m\u001b[0;34m\u001b[0m\u001b[0m\n\u001b[0;32m----> 2\u001b[0;31m \u001b[0;32mfor\u001b[0m \u001b[0mk\u001b[0m\u001b[0;34m,\u001b[0m\u001b[0mv\u001b[0m \u001b[0;32min\u001b[0m \u001b[0mdegrees_top\u001b[0m\u001b[0;34m.\u001b[0m\u001b[0mitems\u001b[0m\u001b[0;34m(\u001b[0m\u001b[0;34m)\u001b[0m\u001b[0;34m:\u001b[0m\u001b[0;34m\u001b[0m\u001b[0;34m\u001b[0m\u001b[0m\n\u001b[0m\u001b[1;32m      3\u001b[0m     \u001b[0md_top\u001b[0m\u001b[0;34m[\u001b[0m\u001b[0mk\u001b[0m\u001b[0;34m]\u001b[0m \u001b[0;34m=\u001b[0m \u001b[0;34m(\u001b[0m\u001b[0mv\u001b[0m\u001b[0;34m,\u001b[0m \u001b[0mnp\u001b[0m\u001b[0;34m.\u001b[0m\u001b[0mmean\u001b[0m\u001b[0;34m(\u001b[0m\u001b[0mlist\u001b[0m\u001b[0;34m(\u001b[0m\u001b[0mmap\u001b[0m\u001b[0;34m(\u001b[0m\u001b[0;32mlambda\u001b[0m \u001b[0ma\u001b[0m\u001b[0;34m:\u001b[0m \u001b[0mdegrees_bottom\u001b[0m\u001b[0;34m.\u001b[0m\u001b[0mget\u001b[0m\u001b[0;34m(\u001b[0m\u001b[0ma\u001b[0m\u001b[0;34m)\u001b[0m\u001b[0;34m,\u001b[0m\u001b[0mdataset\u001b[0m\u001b[0;34m.\u001b[0m\u001b[0mget_neighbors\u001b[0m\u001b[0;34m(\u001b[0m\u001b[0mk\u001b[0m\u001b[0;34m,\u001b[0m\u001b[0mdataset\u001b[0m\u001b[0;34m.\u001b[0m\u001b[0mtop\u001b[0m\u001b[0;34m)\u001b[0m\u001b[0;34m)\u001b[0m\u001b[0;34m)\u001b[0m\u001b[0;34m)\u001b[0m\u001b[0;34m)\u001b[0m\u001b[0;34m\u001b[0m\u001b[0;34m\u001b[0m\u001b[0m\n\u001b[1;32m      4\u001b[0m \u001b[0;34m\u001b[0m\u001b[0m\n\u001b[1;32m      5\u001b[0m \u001b[0md_bottom\u001b[0m \u001b[0;34m=\u001b[0m \u001b[0mdict\u001b[0m\u001b[0;34m(\u001b[0m\u001b[0;34m)\u001b[0m\u001b[0;34m\u001b[0m\u001b[0;34m\u001b[0m\u001b[0m\n",
      "\u001b[0;31mNameError\u001b[0m: name 'degrees_top' is not defined"
     ]
    }
   ],
   "source": [
    "d_top = dict()\n",
    "for k,v in degrees_top.items():\n",
    "    d_top[k] = (v, np.mean(list(map(lambda a: degrees_bottom.get(a),dataset.get_neighbors(k,dataset.top)))))\n",
    "    \n",
    "d_bottom = dict()\n",
    "for k,v in degrees_bottom.items():\n",
    "    d_bottom[k] = (v, np.mean(list(map(lambda a: degrees_top.get(a),dataset.get_neighbors(k,dataset.bottom)))))"
   ]
  },
  {
   "cell_type": "code",
   "execution_count": 20,
   "metadata": {
    "scrolled": true
   },
   "outputs": [
    {
     "data": {
      "text/plain": [
       "(0, 100)"
      ]
     },
     "execution_count": 20,
     "metadata": {},
     "output_type": "execute_result"
    },
    {
     "data": {
      "image/png": "[encoded data removed]",
      "text/plain": [
       "<Figure size 432x288 with 1 Axes>"
      ]
     },
     "metadata": {
      "needs_background": "light"
     },
     "output_type": "display_data"
    }
   ],
   "source": [
    "d = d_bottom\n",
    "degrees = [x[0] for x in  d.values()]\n",
    "avg_degree_neighbors = [x[1] for x in  d.values()]\n",
    "ax = plt.scatter(degrees, avg_degree_neighbors)\n",
    "\n",
    "axes = plt.gca()\n",
    "axes.set_xlim([0,100])"
   ]
  },
  {
   "cell_type": "code",
   "execution_count": 105,
   "metadata": {},
   "outputs": [],
   "source": [
    "z = {1:(20,10), 2:(30,10)}"
   ]
  },
  {
   "cell_type": "code",
   "execution_count": 50,
   "metadata": {},
   "outputs": [
    {
     "ename": "TypeError",
     "evalue": "'dict_values' object is not subscriptable",
     "output_type": "error",
     "traceback": [
      "\u001b[0;31m---------------------------------------------------------------------------\u001b[0m",
      "\u001b[0;31mTypeError\u001b[0m                                 Traceback (most recent call last)",
      "\u001b[0;32m<ipython-input-50-4b368185f565>\u001b[0m in \u001b[0;36m<module>\u001b[0;34m\u001b[0m\n\u001b[0;32m----> 1\u001b[0;31m \u001b[0mz\u001b[0m\u001b[0;34m.\u001b[0m\u001b[0mvalues\u001b[0m\u001b[0;34m(\u001b[0m\u001b[0;34m)\u001b[0m\u001b[0;34m[\u001b[0m\u001b[0;36m0\u001b[0m\u001b[0;34m]\u001b[0m\u001b[0;34m\u001b[0m\u001b[0;34m\u001b[0m\u001b[0m\n\u001b[0m",
      "\u001b[0;31mTypeError\u001b[0m: 'dict_values' object is not subscriptable"
     ]
    }
   ],
   "source": [
    "z.values()"
   ]
  },
  {
   "cell_type": "markdown",
   "metadata": {},
   "source": [
    "# Old"
   ]
  },
  {
   "cell_type": "code",
   "execution_count": 66,
   "metadata": {},
   "outputs": [],
   "source": [
    "top5 = {\"A\":{1,2},\n",
    "        \"B\":{1,2,3,4},\n",
    "        \"C\":{3,4},\n",
    "        'F': set()}\n",
    "\n",
    "bottom5 = {1:{\"A\",\"B\"},\n",
    "           2:{\"A\",\"B\"},\n",
    "           3:{\"B\",\"C\"},\n",
    "           4:{\"B\",\"C\"}}\n",
    "\n",
    "bg5 = BipartiteGraph(top5,bottom5)\n"
   ]
  },
  {
   "cell_type": "code",
   "execution_count": 67,
   "metadata": {},
   "outputs": [
    {
     "data": {
      "text/plain": [
       "{1}"
      ]
     },
     "execution_count": 67,
     "metadata": {},
     "output_type": "execute_result"
    }
   ],
   "source": [
    "{1,3} & {4,1,2}"
   ]
  },
  {
   "cell_type": "code",
   "execution_count": 75,
   "metadata": {
    "scrolled": true
   },
   "outputs": [
    {
     "name": "stdout",
     "output_type": "stream",
     "text": [
      "defaultdict(<class 'set'>, {2: {'A', 'B'}, 3: {'C', 'A', 'B'}, 4: {'C', 'A'}, 5: {'C', 'A'}, 1: {'B'}, 6: {'C'}})\n"
     ]
    }
   ],
   "source": [
    "top = {\"A\":{2,3,4,5},\n",
    "       \"B\":{1,2,3},\n",
    "       \"C\":{3,4,5,6}}\n",
    "\n",
    "bottom = BipartiteGraph.get_bottom(top)\n",
    "print(bottom)\n",
    "bg = BipartiteGraph(top,bottom)"
   ]
  },
  {
   "cell_type": "code",
   "execution_count": 78,
   "metadata": {},
   "outputs": [],
   "source": []
  },
  {
   "cell_type": "code",
   "execution_count": 77,
   "metadata": {},
   "outputs": [
    {
     "name": "stdout",
     "output_type": "stream",
     "text": [
      "2 3\n",
      "2 4\n",
      "2 5\n",
      "3 4\n",
      "3 5\n",
      "4 5\n"
     ]
    },
    {
     "data": {
      "text/plain": [
       "4"
      ]
     },
     "execution_count": 77,
     "metadata": {},
     "output_type": "execute_result"
    }
   ],
   "source": [
    "count = 0\n",
    "\n",
    "for e1,e2 in itertools.combinations(bg.top.get(\"A\"),2):\n",
    "    print(e1,e2)\n",
    "    e1_neighbors = bg.bottom.get(e1)\n",
    "    e2_neighbors = bg.bottom.get(e2)\n",
    "    inter = e1_neighbors & e2_neighbors\n",
    "    inter.remove(\"A\")\n",
    "    if len(inter):\n",
    "        count+=1\n",
    "        \n",
    "count"
   ]
  },
  {
   "cell_type": "code",
   "execution_count": 79,
   "metadata": {},
   "outputs": [
    {
     "name": "stdout",
     "output_type": "stream",
     "text": [
      "2 3\n",
      "2 4\n",
      "2 5\n",
      "3 4\n",
      "3 5\n",
      "4 5\n"
     ]
    }
   ],
   "source": [
    "for (e1,e2) in itertools.combinations(bg.top.get(\"A\"),2):\n",
    "    print(e1,e2)"
   ]
  },
  {
   "cell_type": "code",
   "execution_count": 74,
   "metadata": {},
   "outputs": [
    {
     "name": "stdout",
     "output_type": "stream",
     "text": [
      "[(2, 3), (2, 4), (2, 5), (2, 7), (3, 4), (3, 5), (3, 7), (4, 5), (4, 7), (5, 7)]\n",
      "2 3\n",
      "NEIGH {'A', 'B'} {'C', 'A', 'B'}\n",
      "BEFORE {'A', 'B'}\n",
      "HERE {'B'}\n",
      "2 4\n",
      "NEIGH {'A', 'B'} {'C', 'A'}\n",
      "BEFORE {'A'}\n",
      "HERE set()\n",
      "2 5\n",
      "NEIGH {'A', 'B'} {'C', 'A'}\n",
      "BEFORE {'A'}\n",
      "HERE set()\n",
      "2 7\n",
      "NEIGH {'A', 'B'} {'A'}\n",
      "BEFORE {'A'}\n",
      "HERE set()\n",
      "3 4\n",
      "NEIGH {'C', 'A', 'B'} {'C', 'A'}\n",
      "BEFORE {'C', 'A'}\n",
      "HERE {'C'}\n",
      "3 5\n",
      "NEIGH {'C', 'A', 'B'} {'C', 'A'}\n",
      "BEFORE {'C', 'A'}\n",
      "HERE {'C'}\n",
      "3 7\n",
      "NEIGH {'C', 'A', 'B'} {'A'}\n",
      "BEFORE {'A'}\n",
      "HERE set()\n",
      "4 5\n",
      "NEIGH {'C', 'A'} {'C', 'A'}\n",
      "BEFORE {'C', 'A'}\n",
      "HERE {'C'}\n",
      "4 7\n",
      "NEIGH {'C', 'A'} {'A'}\n",
      "BEFORE {'A'}\n",
      "HERE set()\n",
      "5 7\n",
      "NEIGH {'C', 'A'} {'A'}\n",
      "BEFORE {'A'}\n",
      "HERE set()\n"
     ]
    }
   ],
   "source": [
    "#redundancy A \n",
    "pairs = list(itertools.combinations(bg.top.get(\"A\"),2))\n",
    "print(pairs)\n",
    "for e1,e2 in pairs:\n",
    "    print(e1,e2)\n",
    "    e1_neighbors = bg.bottom.get(e1)\n",
    "    e2_neighbors = bg.bottom.get(e2)\n",
    "    print(\"NEIGH\",e1_neighbors,e2_neighbors)\n",
    "    inter = e1_neighbors & e2_neighbors\n",
    "    print(\"BEFORE\",inter)\n",
    "    inter.remove(\"A\")\n",
    "    print(\"HERE\",inter)"
   ]
  },
  {
   "cell_type": "code",
   "execution_count": 53,
   "metadata": {},
   "outputs": [],
   "source": [
    "a = {1,2,3}"
   ]
  },
  {
   "cell_type": "code",
   "execution_count": 70,
   "metadata": {},
   "outputs": [
    {
     "ename": "KeyError",
     "evalue": "4",
     "output_type": "error",
     "traceback": [
      "\u001b[0;31m---------------------------------------------------------------------------\u001b[0m",
      "\u001b[0;31mKeyError\u001b[0m                                  Traceback (most recent call last)",
      "\u001b[0;32m<ipython-input-70-181f025cbb19>\u001b[0m in \u001b[0;36m<module>\u001b[0;34m\u001b[0m\n\u001b[0;32m----> 1\u001b[0;31m \u001b[0ma\u001b[0m\u001b[0;34m.\u001b[0m\u001b[0mremove\u001b[0m\u001b[0;34m(\u001b[0m\u001b[0;36m4\u001b[0m\u001b[0;34m)\u001b[0m\u001b[0;34m\u001b[0m\u001b[0;34m\u001b[0m\u001b[0m\n\u001b[0m",
      "\u001b[0;31mKeyError\u001b[0m: 4"
     ]
    }
   ],
   "source": [
    "a.remove(4)"
   ]
  },
  {
   "cell_type": "code",
   "execution_count": 100,
   "metadata": {},
   "outputs": [
    {
     "data": {
      "text/plain": [
       "dict_keys([0, 1, 10, 1000, 1001, 100, 1002, 1003, 1004, 1005, 1006, 1007, 1008, 1009, 1010, 1011, 101, 1012, 1013, 1014, 1015, 1016, 1017, 1018, 1019, 1020, 1021, 102, 1022, 1023, 1024, 1025, 1026, 1027, 1028, 1029, 1030, 1031, 103, 1032, 1033, 1034, 1035, 1036, 1037, 1038, 1039, 1040, 1041, 104, 1042, 1043, 1044, 1045, 1046, 1047, 1048, 1049, 1050, 1051, 105, 1052, 1053, 1054, 1055, 1056, 1057, 1058, 1059, 1060, 1061, 106, 1062, 1063, 1064, 1065, 1066, 1067, 1068, 1069, 1070, 1071, 107, 1072, 1073, 1074, 1075, 1076, 1077, 1078, 1079, 1080, 1081, 108, 1082, 1083, 1084, 1085, 1086, 1087, 1088, 1089, 1090, 1091, 109, 1092, 1093, 1094, 1095, 1096, 1097, 1098, 1099, 11, 1100, 1101, 110, 1102, 1103, 1104, 1105, 1106, 1107, 1108, 1109, 1110, 1111, 111, 1112, 1113, 1114, 1115, 1116, 1117, 1118, 1119, 1120, 112, 1121, 1122, 1123, 1124, 1125, 1126, 1127, 1128, 1129, 1130, 113, 1131, 1132, 1133, 1134, 1135, 1136, 1137, 1138, 1139, 1140, 1141, 114, 1142, 1143, 1144, 1145, 1146, 1147, 1148, 1149, 1150, 1151, 115, 1152, 1153, 1154, 1155, 1156, 1157, 1158, 1159, 1160, 1161, 116, 1162, 1163, 1164, 1165, 1166, 1167, 1168, 1169, 1170, 1171, 117, 1172, 1173, 1174, 1175, 1176, 1177, 1178, 1179, 1180, 118, 1181, 1182, 1183, 1184, 1185, 1186, 1187, 1188, 1189, 1190, 119, 1191, 1192, 1193, 1194, 1195, 1196, 1197, 1198, 1199, 12, 1200, 120, 1201, 1202, 1203, 1204, 1205, 1206, 1207, 1208, 1209, 1210, 121, 1211, 1212, 1213, 1214, 1215, 1216, 1217, 1218, 1219, 1220, 122, 1221, 1222, 1223, 1224, 1225, 1226, 1227, 1228, 1229, 1230, 1231, 123, 1232, 1233, 1234, 1235, 1236, 1237, 1238, 1239, 1240, 1241, 124, 1242, 1243, 1244, 1245, 1246, 1247, 1248, 1249, 1250, 1251, 125, 1252, 1253, 1254, 1255, 1256, 1257, 1258, 1259, 1260, 1261, 126, 1262, 1263, 1264, 1265, 1266, 1267, 1268, 1269, 1270, 1271, 127, 1272, 1273, 1274, 1275, 1276, 1277, 1278, 1279, 1280, 1281, 128, 1282, 1283, 1284, 1285, 1286, 1287, 1288, 1289, 1290, 1291, 129, 1292, 1293, 1294, 1295, 1296, 1297, 1298, 1299, 13, 1300, 1301, 130, 1302, 1303, 1304, 1305, 1306, 1307, 1308, 1309, 1310, 131, 1311, 1312, 1313, 1314, 1315, 1316, 1317, 1318, 1319, 1320, 132, 1321, 1322, 1323, 1324, 1325, 1326, 1327, 1328, 1329, 1330, 1331, 133, 1332, 1333, 1334, 1335, 1336, 1337, 1338, 1339, 1340, 1341, 134, 1342, 1343, 1344, 1345, 1346, 1347, 1348, 1349, 1350, 1351, 135, 1352, 1353, 1354, 1355, 1356, 1357, 1358, 1359, 1360, 1361, 136, 1362, 1363, 1364, 1365, 1366, 1367, 1368, 1369, 1370, 1371, 1372, 137, 1373, 1374, 1375, 1376, 1377, 1378, 1379, 1380, 1381, 1382, 138, 1383, 1384, 1385, 1386, 1387, 1388, 1389, 1390, 1391, 1392, 139, 1393, 1394, 1395, 1396, 1397, 1398, 1399, 14, 1400, 1401, 140, 1402, 1403, 1404, 1405, 1406, 1407, 1408, 1409, 1410, 1411, 1412, 141, 1413, 1414, 1415, 1416, 1417, 1418, 1419, 1420, 1421, 1422, 142, 1423, 1424, 1425, 1426, 1427, 1428, 1429, 1430, 1431, 1432, 143, 1433, 1434, 1435, 1436, 1437, 1438, 1439, 1440, 1441, 1442, 144, 1443, 1444, 1445, 1446, 145, 146, 147, 148, 149, 15, 150, 151, 152, 153, 154, 155, 156, 157, 158, 159, 16, 160, 161, 162, 163, 164, 165, 166, 167, 168, 169, 17, 170, 171, 172, 173, 174, 175, 176, 177, 178, 179, 18, 180, 181, 182, 183, 184, 185, 186, 187, 188, 189, 19, 190, 191, 192, 193, 194, 195, 196, 197, 198, 199, 2, 20, 200, 201, 202, 203, 204, 205, 206, 207, 208, 209, 21, 210, 211, 212, 213, 214, 215, 216, 217, 218, 219, 22, 220, 221, 222, 223, 224, 225, 226, 227, 228, 229, 23, 230, 231, 232, 233, 234, 235, 236, 237, 238, 239, 24, 240, 241, 242, 243, 244, 245, 246, 247, 248, 249, 25, 250, 251, 252, 253, 254, 255, 256, 257, 258, 259, 26, 260, 261, 262, 263, 264, 265, 266, 267, 268, 269, 27, 270, 271, 272, 273, 274, 275, 276, 277, 278, 279, 28, 280, 281, 282, 283, 284, 285, 286, 287, 288, 289, 29, 290, 291, 292, 293, 294, 295, 296, 297, 298, 299, 3, 30, 300, 301, 302, 303, 304, 305, 306, 307, 308, 309, 31, 310, 311, 312, 313, 314, 315, 316, 317, 318, 319, 32, 320, 321, 322, 323, 324, 325, 326, 327, 328, 329, 33, 330, 331, 332, 333, 334, 335, 336, 337, 338, 339, 34, 340, 341, 342, 343, 344, 345, 346, 347, 348, 349, 350, 35, 351, 352, 353, 354, 355, 356, 357, 358, 359, 360, 36, 361, 362, 363, 364, 365, 366, 367, 368, 369, 370, 37, 371, 372, 373, 374, 375, 376, 377, 378, 379, 380, 38, 381, 382, 383, 384, 385, 386, 387, 388, 389, 390, 39, 391, 392, 393, 394, 395, 396, 397, 398, 399, 4, 400, 40, 401, 402, 403, 404, 405, 406, 407, 408, 409, 410, 41, 411, 412, 413, 414, 415, 416, 417, 418, 419, 420, 42, 421, 422, 423, 424, 425, 426, 427, 428, 429, 430, 43, 431, 432, 433, 434, 435, 436, 437, 438, 439, 440, 441, 44, 442, 443, 444, 445, 446, 447, 448, 449, 450, 451, 45, 452, 453, 454, 455, 456, 457, 458, 459, 460, 461, 46, 462, 463, 464, 465, 466, 467, 468, 469, 470, 471, 47, 472, 473, 474, 475, 476, 477, 478, 479, 480, 481, 48, 482, 483, 484, 485, 486, 487, 488, 489, 490, 491, 49, 492, 493, 494, 495, 496, 497, 498, 499, 5, 500, 501, 50, 502, 503, 504, 505, 506, 507, 508, 509, 510, 511, 51, 512, 513, 514, 515, 516, 517, 518, 519, 520, 521, 52, 522, 523, 524, 525, 526, 527, 528, 529, 530, 531, 53, 532, 533, 534, 535, 536, 537, 538, 539, 540, 541, 54, 542, 543, 544, 545, 546, 547, 548, 549, 550, 551, 55, 552, 553, 554, 555, 556, 557, 558, 559, 560, 561, 56, 562, 563, 564, 565, 566, 567, 568, 569, 570, 571, 57, 572, 573, 574, 575, 576, 577, 578, 579, 580, 581, 58, 582, 583, 584, 585, 586, 587, 588, 589, 590, 591, 59, 592, 593, 594, 595, 596, 597, 598, 599, 6, 600, 601, 60, 602, 603, 604, 605, 606, 607, 608, 609, 610, 61, 611, 612, 613, 614, 615, 616, 617, 618, 619, 620, 62, 621, 622, 623, 624, 625, 626, 627, 628, 629, 630, 63, 631, 632, 633, 634, 635, 636, 637, 638, 639, 640, 64, 641, 642, 643, 644, 645, 646, 647, 648, 649, 650, 651, 65, 652, 653, 654, 655, 656, 657, 658, 659, 660, 661, 66, 662, 663, 664, 665, 666, 667, 668, 669, 670, 671, 67, 672, 673, 674, 675, 676, 677, 678, 679, 680, 681, 68, 682, 683, 684, 685, 686, 687, 688, 689, 690, 691, 69, 692, 693, 694, 695, 696, 697, 698, 699, 7, 700, 701, 70, 702, 703, 704, 705, 706, 707, 708, 709, 710, 711, 71, 712, 713, 714, 715, 716, 717, 718, 719, 720, 721, 72, 722, 723, 724, 725, 726, 727, 728, 729, 730, 731, 73, 732, 733, 734, 735, 736, 737, 738, 739, 740, 741, 74, 742, 743, 744, 745, 746, 747, 748, 749, 750, 751, 75, 752, 753, 754, 755, 756, 757, 758, 759, 760, 761, 76, 762, 763, 764, 765, 766, 767, 768, 769, 770, 771, 77, 772, 773, 774, 775, 776, 777, 778, 779, 780, 781, 78, 782, 783, 784, 785, 786, 787, 788, 789, 790, 791, 79, 792, 793, 794, 795, 796, 797, 798, 799, 8, 800, 801, 80, 802, 803, 804, 805, 806, 807, 808, 809, 810, 811, 81, 812, 813, 814, 815, 816, 817, 818, 819, 820, 821, 82, 822, 823, 824, 825, 826, 827, 828, 829, 830, 831, 83, 832, 833, 834, 835, 836, 837, 838, 839, 840, 841, 84, 842, 843, 844, 845, 846, 847, 848, 849, 850, 851, 85, 852, 853, 854, 855, 856, 857, 858, 859, 860, 861, 86, 862, 863, 864, 865, 866, 867, 868, 869, 870, 871, 87, 872, 873, 874, 875, 876, 877, 878, 879, 880, 881, 88, 882, 883, 884, 885, 886, 887, 888, 889, 890, 891, 89, 892, 893, 894, 895, 896, 897, 898, 899, 9, 900, 901, 90, 902, 903, 904, 905, 906, 907, 908, 909, 910, 911, 91, 912, 913, 914, 915, 916, 917, 918, 919, 920, 921, 92, 922, 923, 924, 925, 926, 927, 928, 929, 930, 931, 93, 932, 933, 934, 935, 936, 937, 938, 939, 940, 941, 94, 942, 943, 944, 945, 946, 947, 948, 949, 950, 951, 95, 952, 953, 954, 955, 956, 957, 958, 959, 960, 961, 96, 962, 963, 964, 965, 966, 967, 968, 969, 970, 971, 97, 972, 973, 974, 975, 976, 977, 978, 979, 980, 981, 98, 982, 983, 984, 985, 986, 987, 988, 989, 990, 991, 99, 992, 993, 994, 995, 996, 997, 998, 999])"
      ]
     },
     "execution_count": 100,
     "metadata": {},
     "output_type": "execute_result"
    }
   ],
   "source": [
    "bpse.top.keys()"
   ]
  },
  {
   "cell_type": "code",
   "execution_count": null,
   "metadata": {},
   "outputs": [],
   "source": [
    "bpse.all"
   ]
  },
  {
   "cell_type": "code",
   "execution_count": 113,
   "metadata": {},
   "outputs": [
    {
     "name": "stdout",
     "output_type": "stream",
     "text": [
      "3.170967102050781e-05\n"
     ]
    },
    {
     "data": {
      "text/plain": [
       "(1.0, 6, 6)"
      ]
     },
     "execution_count": 113,
     "metadata": {},
     "output_type": "execute_result"
    }
   ],
   "source": [
    "# bg.get_redundancyA(\"A\",bg.top)\n",
    "bpse.get_redundancyA(1000,bpse.top)"
   ]
  },
  {
   "cell_type": "code",
   "execution_count": 114,
   "metadata": {},
   "outputs": [
    {
     "name": "stdout",
     "output_type": "stream",
     "text": [
      "2.5272369384765625e-05\n"
     ]
    },
    {
     "data": {
      "text/plain": [
       "(1.0, 6, 6)"
      ]
     },
     "execution_count": 114,
     "metadata": {},
     "output_type": "execute_result"
    }
   ],
   "source": [
    "# bg.get_redundancyB(\"A\",bg.top)\n",
    "bpse.get_redundancyB(1000,bpse.top)"
   ]
  },
  {
   "cell_type": "code",
   "execution_count": 108,
   "metadata": {},
   "outputs": [
    {
     "ename": "AttributeError",
     "evalue": "'BipartiteGraph' object has no attribute 'get_redundancy'",
     "output_type": "error",
     "traceback": [
      "\u001b[0;31m---------------------------------------------------------------------------\u001b[0m",
      "\u001b[0;31mAttributeError\u001b[0m                            Traceback (most recent call last)",
      "\u001b[0;32m<ipython-input-108-352c87db713f>\u001b[0m in \u001b[0;36m<module>\u001b[0;34m\u001b[0m\n\u001b[0;32m----> 1\u001b[0;31m \u001b[0mget_local_feature\u001b[0m\u001b[0;34m(\u001b[0m\u001b[0mbg\u001b[0m\u001b[0;34m.\u001b[0m\u001b[0mget_redundancy\u001b[0m\u001b[0;34m,\u001b[0m \u001b[0mbg\u001b[0m\u001b[0;34m.\u001b[0m\u001b[0mtop\u001b[0m\u001b[0;34m)\u001b[0m\u001b[0;34m\u001b[0m\u001b[0;34m\u001b[0m\u001b[0m\n\u001b[0m",
      "\u001b[0;31mAttributeError\u001b[0m: 'BipartiteGraph' object has no attribute 'get_redundancy'"
     ]
    }
   ],
   "source": [
    "get_local_feature(bg.get_redundancy, bg.top)\n"
   ]
  },
  {
   "cell_type": "code",
   "execution_count": 119,
   "metadata": {},
   "outputs": [
    {
     "name": "stdout",
     "output_type": "stream",
     "text": [
      "LEN A 1447\n",
      "LEN SET 1447\n",
      "1.8596649169921875e-05\n",
      "9.059906005859375e-06\n",
      "1.1682510375976562e-05\n",
      "9.298324584960938e-06\n",
      "4.0531158447265625e-06\n",
      "8.58306884765625e-06\n",
      "3.814697265625e-06\n",
      "3.814697265625e-06\n",
      "3.5762786865234375e-06\n",
      "3.337860107421875e-06\n",
      "7.152557373046875e-06\n",
      "6.198883056640625e-06\n",
      "5.7220458984375e-06\n",
      "5.9604644775390625e-06\n",
      "5.245208740234375e-06\n",
      "5.0067901611328125e-06\n",
      "6.4373016357421875e-06\n",
      "5.4836273193359375e-06\n",
      "5.0067901611328125e-06\n",
      "7.62939453125e-06\n",
      "1.8835067749023438e-05\n",
      "1.0728836059570312e-05\n",
      "8.58306884765625e-06\n",
      "4.0531158447265625e-06\n",
      "4.0531158447265625e-06\n",
      "1.5020370483398438e-05\n",
      "1.430511474609375e-05\n",
      "7.3909759521484375e-06\n",
      "1.4066696166992188e-05\n",
      "1.3589859008789062e-05\n",
      "4.291534423828125e-06\n",
      "4.291534423828125e-06\n",
      "3.814697265625e-06\n",
      "4.0531158447265625e-06\n",
      "5.245208740234375e-06\n",
      "4.76837158203125e-06\n",
      "4.291534423828125e-06\n",
      "4.291534423828125e-06\n",
      "6.9141387939453125e-06\n",
      "4.291534423828125e-06\n",
      "4.5299530029296875e-06\n",
      "4.5299530029296875e-06\n",
      "4.0531158447265625e-06\n",
      "4.5299530029296875e-06\n",
      "1.1205673217773438e-05\n",
      "1.430511474609375e-05\n",
      "1.2874603271484375e-05\n",
      "9.059906005859375e-06\n",
      "9.059906005859375e-06\n",
      "6.9141387939453125e-06\n",
      "1.3589859008789062e-05\n",
      "9.298324584960938e-06\n",
      "1.2159347534179688e-05\n",
      "1.2159347534179688e-05\n",
      "1.049041748046875e-05\n",
      "3.337860107421875e-06\n"
     ]
    },
    {
     "ename": "ZeroDivisionError",
     "evalue": "division by zero",
     "output_type": "error",
     "traceback": [
      "\u001b[0;31m---------------------------------------------------------------------------\u001b[0m",
      "\u001b[0;31mZeroDivisionError\u001b[0m                         Traceback (most recent call last)",
      "\u001b[0;32m<ipython-input-119-24484d82fa23>\u001b[0m in \u001b[0;36m<module>\u001b[0;34m\u001b[0m\n\u001b[0;32m----> 1\u001b[0;31m \u001b[0mdata\u001b[0m \u001b[0;34m=\u001b[0m \u001b[0mall_local_features\u001b[0m\u001b[0;34m(\u001b[0m\u001b[0mbpse\u001b[0m\u001b[0;34m,\u001b[0m\u001b[0mbpse\u001b[0m\u001b[0;34m.\u001b[0m\u001b[0mtop\u001b[0m\u001b[0;34m)\u001b[0m\u001b[0;34m\u001b[0m\u001b[0;34m\u001b[0m\u001b[0m\n\u001b[0m",
      "\u001b[0;32m<ipython-input-11-1cc783f21c3a>\u001b[0m in \u001b[0;36mall_local_features\u001b[0;34m(graph, set1)\u001b[0m\n\u001b[1;32m      2\u001b[0m     \u001b[0mall_degrees_set1\u001b[0m \u001b[0;34m=\u001b[0m \u001b[0mgraph\u001b[0m\u001b[0;34m.\u001b[0m\u001b[0mget_all_degrees\u001b[0m\u001b[0;34m(\u001b[0m\u001b[0mset1\u001b[0m\u001b[0;34m)\u001b[0m\u001b[0;34m\u001b[0m\u001b[0;34m\u001b[0m\u001b[0m\n\u001b[1;32m      3\u001b[0m     \u001b[0mcc_bullet_set1\u001b[0m   \u001b[0;34m=\u001b[0m \u001b[0mget_local_feature\u001b[0m\u001b[0;34m(\u001b[0m\u001b[0mgraph\u001b[0m\u001b[0;34m.\u001b[0m\u001b[0mcc_bullet\u001b[0m\u001b[0;34m,\u001b[0m \u001b[0mset1\u001b[0m\u001b[0;34m)\u001b[0m\u001b[0;34m\u001b[0m\u001b[0;34m\u001b[0m\u001b[0m\n\u001b[0;32m----> 4\u001b[0;31m     \u001b[0mredundancy_set1\u001b[0m  \u001b[0;34m=\u001b[0m \u001b[0mget_local_feature\u001b[0m\u001b[0;34m(\u001b[0m\u001b[0mgraph\u001b[0m\u001b[0;34m.\u001b[0m\u001b[0mget_redundancy\u001b[0m\u001b[0;34m,\u001b[0m \u001b[0mset1\u001b[0m\u001b[0;34m,\u001b[0m\u001b[0;32mTrue\u001b[0m\u001b[0;34m)\u001b[0m\u001b[0;34m\u001b[0m\u001b[0;34m\u001b[0m\u001b[0m\n\u001b[0m\u001b[1;32m      5\u001b[0m \u001b[0;34m\u001b[0m\u001b[0m\n\u001b[1;32m      6\u001b[0m     \u001b[0;31m# df = pd.DataFrame.from_dict(all_degrees, orient='index')\u001b[0m\u001b[0;34m\u001b[0m\u001b[0;34m\u001b[0m\u001b[0;34m\u001b[0m\u001b[0m\n",
      "\u001b[0;32m<ipython-input-9-652fb85d0ecc>\u001b[0m in \u001b[0;36mget_local_feature\u001b[0;34m(feature_function, set1, copy)\u001b[0m\n\u001b[1;32m     11\u001b[0m     \u001b[0ma\u001b[0m \u001b[0;34m=\u001b[0m \u001b[0mdict\u001b[0m\u001b[0;34m(\u001b[0m\u001b[0;34m)\u001b[0m\u001b[0;34m\u001b[0m\u001b[0;34m\u001b[0m\u001b[0m\n\u001b[1;32m     12\u001b[0m     \u001b[0;32mfor\u001b[0m \u001b[0mkey\u001b[0m\u001b[0;34m,\u001b[0m\u001b[0mvalue\u001b[0m \u001b[0;32min\u001b[0m \u001b[0mset1_to_iterate\u001b[0m\u001b[0;34m.\u001b[0m\u001b[0mitems\u001b[0m\u001b[0;34m(\u001b[0m\u001b[0;34m)\u001b[0m\u001b[0;34m:\u001b[0m\u001b[0;34m\u001b[0m\u001b[0;34m\u001b[0m\u001b[0m\n\u001b[0;32m---> 13\u001b[0;31m         \u001b[0ma\u001b[0m\u001b[0;34m[\u001b[0m\u001b[0mkey\u001b[0m\u001b[0;34m]\u001b[0m \u001b[0;34m=\u001b[0m \u001b[0mfeature_function\u001b[0m\u001b[0;34m(\u001b[0m\u001b[0mkey\u001b[0m\u001b[0;34m,\u001b[0m\u001b[0mset1\u001b[0m\u001b[0;34m)\u001b[0m\u001b[0;34m\u001b[0m\u001b[0;34m\u001b[0m\u001b[0m\n\u001b[0m\u001b[1;32m     14\u001b[0m \u001b[0;34m\u001b[0m\u001b[0m\n\u001b[1;32m     15\u001b[0m \u001b[0;34m\u001b[0m\u001b[0m\n",
      "\u001b[0;32m~/Documents/LIP6/github/BipartiteGraph.py\u001b[0m in \u001b[0;36mget_redundancy\u001b[0;34m(self, vertex, set1)\u001b[0m\n\u001b[1;32m   1216\u001b[0m         \u001b[0mprint\u001b[0m\u001b[0;34m(\u001b[0m\u001b[0mtime\u001b[0m\u001b[0;34m.\u001b[0m\u001b[0mtime\u001b[0m\u001b[0;34m(\u001b[0m\u001b[0;34m)\u001b[0m\u001b[0;34m-\u001b[0m \u001b[0mstart_time\u001b[0m\u001b[0;34m)\u001b[0m\u001b[0;34m\u001b[0m\u001b[0;34m\u001b[0m\u001b[0m\n\u001b[1;32m   1217\u001b[0m \u001b[0;34m\u001b[0m\u001b[0m\n\u001b[0;32m-> 1218\u001b[0;31m         \u001b[0;32mreturn\u001b[0m \u001b[0mnb_persistant_edges\u001b[0m\u001b[0;34m/\u001b[0m\u001b[0mnb_combinations\u001b[0m\u001b[0;34m,\u001b[0m \u001b[0mnb_persistant_edges\u001b[0m\u001b[0;34m,\u001b[0m\u001b[0mnb_combinations\u001b[0m\u001b[0;34m\u001b[0m\u001b[0;34m\u001b[0m\u001b[0m\n\u001b[0m",
      "\u001b[0;31mZeroDivisionError\u001b[0m: division by zero"
     ]
    }
   ],
   "source": [
    "data = all_local_features(bpse,bpse.top)"
   ]
  },
  {
   "cell_type": "code",
   "execution_count": null,
   "metadata": {},
   "outputs": [],
   "source": []
  }
 ],
 "metadata": {
  "kernelspec": {
   "display_name": "Python 3",
   "language": "python",
   "name": "python3"
  },
  "language_info": {
   "codemirror_mode": {
    "name": "ipython",
    "version": 3
   },
   "file_extension": ".py",
   "mimetype": "text/x-python",
   "name": "python",
   "nbconvert_exporter": "python",
   "pygments_lexer": "ipython3",
   "version": "3.7.3"
  },
  "toc": {
   "base_numbering": 1,
   "nav_menu": {},
   "number_sections": true,
   "sideBar": true,
   "skip_h1_title": false,
   "title_cell": "Table of Contents",
   "title_sidebar": "Contents",
   "toc_cell": false,
   "toc_position": {},
   "toc_section_display": true,
   "toc_window_display": false
  }
 },
 "nbformat": 4,
 "nbformat_minor": 4
}
